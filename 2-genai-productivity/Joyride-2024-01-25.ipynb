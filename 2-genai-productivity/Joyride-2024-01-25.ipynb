{
 "cells": [
  {
   "cell_type": "markdown",
   "id": "64c272eb-b3f0-4be4-aa3a-49bf0c57113e",
   "metadata": {},
   "source": [
    "# Demo / Hands-On Session: Gen AI for Internal Productivity Increase"
   ]
  },
  {
   "cell_type": "code",
   "execution_count": 1,
   "id": "f8df4ff091bb2617",
   "metadata": {
    "ExecuteTime": {
     "end_time": "2024-05-24T07:20:27.620714Z",
     "start_time": "2024-05-24T07:19:52.203605Z"
    }
   },
   "outputs": [],
   "source": [
    "import json\n",
    "\n",
    "import numpy as np\n",
    "import pandas as pd\n",
    "import urllib3\n",
    "from langchain.prompts import ChatPromptTemplate\n",
    "\n",
    "from src.models import gpt35, embedding_model, gpt4\n",
    "from src.utils import cosine_similarity"
   ]
  },
  {
   "cell_type": "markdown",
   "id": "ayDEMllZEvQd",
   "metadata": {
    "id": "ayDEMllZEvQd"
   },
   "source": [
    "## **Open the Hood - RAG & Semantic Search**"
   ]
  },
  {
   "cell_type": "markdown",
   "id": "fd632359-dee5-4336-958c-d9686c79ee13",
   "metadata": {},
   "source": [
    "<img src=\"data/open-the-hood-wide.jpg\" alt=\"image\" width=\"800\" height=\"auto\">"
   ]
  },
  {
   "cell_type": "markdown",
   "id": "7abcb4d4-33f0-408c-8564-60fc801d184b",
   "metadata": {},
   "source": [
    "For most internal use cases, Large Language Models need access to internal data. The easiest and most popular method to give LLMs access to internal documents is **Retrieval Augmented Generation (RAG)**. \n",
    "\n",
    "The following is a high-level overview of RAG:\n",
    "\n",
    "<img src=\"data/rag.jpg\" alt=\"image\" width=\"600\" height=\"auto\">\n",
    "\n",
    "1. User enters a query that is combined with a pre-configured prompt\n",
    "2. The query is used to search for documents that are relevant to the query\n",
    "3. The *retriever* returns the relevant documents\n",
    "4. Query, prompt and the relevant context are combined and sent to the LLM\n",
    "5. The LLM answers the query by encorporating the provided context\n",
    "\n",
    "The **retrieval** (steps 2 + 3) can be implemented in various ways, as long as it identifies documents that are relevant to the query. Most popular and relatively easy to implement is **semantic search**."
   ]
  },
  {
   "cell_type": "markdown",
   "id": "695aaa16-96df-4471-9fa6-7e0ee1e61f1c",
   "metadata": {},
   "source": []
  },
  {
   "cell_type": "markdown",
   "id": "3bdc69d4-5ac6-4fac-947f-fe46cd12ea65",
   "metadata": {},
   "source": [
    "### Semantic Search"
   ]
  },
  {
   "cell_type": "markdown",
   "id": "79e7eed3-40db-4170-8f65-f7d67c630c33",
   "metadata": {},
   "source": [
    "A concrete example: Let's say we want to identify passages in our terms and conditions that are relevant for electric vehicles. A simple keyword search is hardly effective because of the different phrases you could use:\n",
    "\n",
    "Search Phrase|Phrase in Terms and Conditions|Match\n",
    "---|---|:---:\n",
    "electrical vehicle|electrical vehicle| <font color=\"green\"> ✔ </font>\n",
    "electrical vehicle|electrical car|❌\n",
    "electrical vehicle|electric car|❌\n",
    "\n",
    "Semantic search & embeddings allow to compare the latent **meaning** of words and phrases:\n",
    "Search Phrase|Phrase in Terms and Conditions|Match\n",
    "---|---|:---:\n",
    "electrical vehicle|electrical vehicle|<font size=\"3\"> ⬤ </font>\n",
    "electrical vehicle|electrical car|<font size=\"4\"> ◕ </font>\n",
    "electrical vehicle|electric car|<font size=\"4\"> ◕ </font>\n"
   ]
  },
  {
   "cell_type": "markdown",
   "id": "MGsaTN29c9cl",
   "metadata": {
    "id": "MGsaTN29c9cl"
   },
   "source": [
    "### Word Embeddings\n",
    "\n",
    "* Embeddings are multidimensional vectors that represent the meaning of words or phrases\n",
    "* Words or phrases with similar meanings have vectors that are close / similar to each other\n",
    "* There are different ways to measure vector similarity. One popular way is cosine similarity: $cos \\varphi = {{\\vec a \\cdot \\vec b} \\over {|\\vec a| \\cdot |\\vec b|}}$\n"
   ]
  },
  {
   "attachments": {},
   "cell_type": "markdown",
   "id": "283adf9b-05be-4985-b253-a31c8fc3e99f",
   "metadata": {},
   "source": [
    "<img src=\"data/cosine-similarity.jpg\" alt=\"image\" width=\"400\" height=\"auto\">"
   ]
  },
  {
   "cell_type": "markdown",
   "id": "ee57b460-d97e-436b-8bf8-43d95bedd12a",
   "metadata": {},
   "source": [
    "Retrieve embeddings from OpenAI embedding models and compute their similarity."
   ]
  },
  {
   "cell_type": "code",
   "execution_count": 3,
   "id": "5ce539de-8d6d-4ff5-99d1-b39ba7d83362",
   "metadata": {
    "ExecuteTime": {
     "end_time": "2024-05-22T15:29:41.136218Z",
     "start_time": "2024-05-22T15:29:41.122075Z"
    }
   },
   "outputs": [
    {
     "data": {
      "text/plain": [
       "0.9746821759962818"
      ]
     },
     "execution_count": 3,
     "metadata": {},
     "output_type": "execute_result"
    }
   ],
   "source": [
    "cosine_similarity(\n",
    "    embedding_model.embed_query(\"electric vehicle\"), \n",
    "    embedding_model.embed_query(\"electric car\")\n",
    ")"
   ]
  },
  {
   "cell_type": "code",
   "execution_count": 4,
   "id": "d12d97ce-5833-4f2c-9cf2-11fc0571b1a3",
   "metadata": {
    "ExecuteTime": {
     "end_time": "2024-05-22T15:29:41.151809Z",
     "start_time": "2024-05-22T15:29:41.139727Z"
    }
   },
   "outputs": [
    {
     "data": {
      "text/plain": [
       "0.7720132668477968"
      ]
     },
     "execution_count": 4,
     "metadata": {},
     "output_type": "execute_result"
    }
   ],
   "source": [
    "cosine_similarity(\n",
    "    embedding_model.embed_query(\"electric vehicle\"), \n",
    "    embedding_model.embed_query(\"horse\")\n",
    ")"
   ]
  },
  {
   "cell_type": "markdown",
   "id": "f05bf838-9b6c-472a-8b03-3872a045a0d7",
   "metadata": {},
   "source": [
    "**TASK**: Adapt the code above to compute similarities of words or longer phrases to get a better feeling for how embeddings relate to each other."
   ]
  },
  {
   "cell_type": "markdown",
   "id": "8khnN4kufYY8",
   "metadata": {
    "id": "8khnN4kufYY8"
   },
   "source": [
    "## **Cruising on AXA's freeway**"
   ]
  },
  {
   "cell_type": "markdown",
   "id": "b4dd6d6d-982f-497a-91cc-d1e512cd4cfd",
   "metadata": {},
   "source": [
    "<img src=\"data/mustang-cruising-wide.jpg\" alt=\"image\" width=\"800\" height=\"auto\">"
   ]
  },
  {
   "cell_type": "markdown",
   "id": "sH-LAaMHZvSs",
   "metadata": {
    "id": "sH-LAaMHZvSs"
   },
   "source": [
    "How is this relevant for AXA? One of many ways RAG can be used in an insurance company, is to try to automatically determine whether or not a claim is covered based on the claim description, the individual policy and the general terms and conditions.\n",
    "\n",
    "Prerequisites for our demo:\n",
    "* Access to OpenAIs LLMs und Embedding-Modellen\n",
    "* [Allg. Vertragsbedingungen MF](data/MF-AVB.pdf)\n",
    "* [MF-Police](data/MF-Police.pdf)\n"
   ]
  },
  {
   "cell_type": "markdown",
   "id": "dc9878b1-efa0-4b5a-8ed3-f7840885e57a",
   "metadata": {},
   "source": [
    "Load terms and conditions from a file and compute embeddings for each passage"
   ]
  },
  {
   "cell_type": "code",
   "execution_count": 2,
   "id": "aea622ac-c9e6-4355-b0e5-181e0509a136",
   "metadata": {
    "ExecuteTime": {
     "end_time": "2024-05-23T11:30:02.287002Z",
     "start_time": "2024-05-23T11:30:02.257178Z"
    },
    "scrolled": true
   },
   "outputs": [
    {
     "ename": "APIConnectionError",
     "evalue": "Connection error.",
     "output_type": "error",
     "traceback": [
      "\u001b[1;31m---------------------------------------------------------------------------\u001b[0m",
      "\u001b[1;31mConnectError\u001b[0m                              Traceback (most recent call last)",
      "File \u001b[1;32m~\\.conda\\envs\\cas\\lib\\site-packages\\httpx\\_transports\\default.py:69\u001b[0m, in \u001b[0;36mmap_httpcore_exceptions\u001b[1;34m()\u001b[0m\n\u001b[0;32m     68\u001b[0m \u001b[38;5;28;01mtry\u001b[39;00m:\n\u001b[1;32m---> 69\u001b[0m     \u001b[38;5;28;01myield\u001b[39;00m\n\u001b[0;32m     70\u001b[0m \u001b[38;5;28;01mexcept\u001b[39;00m \u001b[38;5;167;01mException\u001b[39;00m \u001b[38;5;28;01mas\u001b[39;00m exc:\n",
      "File \u001b[1;32m~\\.conda\\envs\\cas\\lib\\site-packages\\httpx\\_transports\\default.py:233\u001b[0m, in \u001b[0;36mHTTPTransport.handle_request\u001b[1;34m(self, request)\u001b[0m\n\u001b[0;32m    232\u001b[0m \u001b[38;5;28;01mwith\u001b[39;00m map_httpcore_exceptions():\n\u001b[1;32m--> 233\u001b[0m     resp \u001b[38;5;241m=\u001b[39m \u001b[38;5;28;43mself\u001b[39;49m\u001b[38;5;241;43m.\u001b[39;49m\u001b[43m_pool\u001b[49m\u001b[38;5;241;43m.\u001b[39;49m\u001b[43mhandle_request\u001b[49m\u001b[43m(\u001b[49m\u001b[43mreq\u001b[49m\u001b[43m)\u001b[49m\n\u001b[0;32m    235\u001b[0m \u001b[38;5;28;01massert\u001b[39;00m \u001b[38;5;28misinstance\u001b[39m(resp\u001b[38;5;241m.\u001b[39mstream, typing\u001b[38;5;241m.\u001b[39mIterable)\n",
      "File \u001b[1;32m~\\.conda\\envs\\cas\\lib\\site-packages\\httpcore\\_sync\\connection_pool.py:216\u001b[0m, in \u001b[0;36mConnectionPool.handle_request\u001b[1;34m(self, request)\u001b[0m\n\u001b[0;32m    215\u001b[0m     \u001b[38;5;28mself\u001b[39m\u001b[38;5;241m.\u001b[39m_close_connections(closing)\n\u001b[1;32m--> 216\u001b[0m     \u001b[38;5;28;01mraise\u001b[39;00m exc \u001b[38;5;28;01mfrom\u001b[39;00m \u001b[38;5;28;01mNone\u001b[39;00m\n\u001b[0;32m    218\u001b[0m \u001b[38;5;66;03m# Return the response. Note that in this case we still have to manage\u001b[39;00m\n\u001b[0;32m    219\u001b[0m \u001b[38;5;66;03m# the point at which the response is closed.\u001b[39;00m\n",
      "File \u001b[1;32m~\\.conda\\envs\\cas\\lib\\site-packages\\httpcore\\_sync\\connection_pool.py:196\u001b[0m, in \u001b[0;36mConnectionPool.handle_request\u001b[1;34m(self, request)\u001b[0m\n\u001b[0;32m    194\u001b[0m \u001b[38;5;28;01mtry\u001b[39;00m:\n\u001b[0;32m    195\u001b[0m     \u001b[38;5;66;03m# Send the request on the assigned connection.\u001b[39;00m\n\u001b[1;32m--> 196\u001b[0m     response \u001b[38;5;241m=\u001b[39m \u001b[43mconnection\u001b[49m\u001b[38;5;241;43m.\u001b[39;49m\u001b[43mhandle_request\u001b[49m\u001b[43m(\u001b[49m\n\u001b[0;32m    197\u001b[0m \u001b[43m        \u001b[49m\u001b[43mpool_request\u001b[49m\u001b[38;5;241;43m.\u001b[39;49m\u001b[43mrequest\u001b[49m\n\u001b[0;32m    198\u001b[0m \u001b[43m    \u001b[49m\u001b[43m)\u001b[49m\n\u001b[0;32m    199\u001b[0m \u001b[38;5;28;01mexcept\u001b[39;00m ConnectionNotAvailable:\n\u001b[0;32m    200\u001b[0m     \u001b[38;5;66;03m# In some cases a connection may initially be available to\u001b[39;00m\n\u001b[0;32m    201\u001b[0m     \u001b[38;5;66;03m# handle a request, but then become unavailable.\u001b[39;00m\n\u001b[0;32m    202\u001b[0m     \u001b[38;5;66;03m#\u001b[39;00m\n\u001b[0;32m    203\u001b[0m     \u001b[38;5;66;03m# In this case we clear the connection and try again.\u001b[39;00m\n",
      "File \u001b[1;32m~\\.conda\\envs\\cas\\lib\\site-packages\\httpcore\\_sync\\http_proxy.py:289\u001b[0m, in \u001b[0;36mTunnelHTTPConnection.handle_request\u001b[1;34m(self, request)\u001b[0m\n\u001b[0;32m    283\u001b[0m connect_request \u001b[38;5;241m=\u001b[39m Request(\n\u001b[0;32m    284\u001b[0m     method\u001b[38;5;241m=\u001b[39m\u001b[38;5;124mb\u001b[39m\u001b[38;5;124m\"\u001b[39m\u001b[38;5;124mCONNECT\u001b[39m\u001b[38;5;124m\"\u001b[39m,\n\u001b[0;32m    285\u001b[0m     url\u001b[38;5;241m=\u001b[39mconnect_url,\n\u001b[0;32m    286\u001b[0m     headers\u001b[38;5;241m=\u001b[39mconnect_headers,\n\u001b[0;32m    287\u001b[0m     extensions\u001b[38;5;241m=\u001b[39mrequest\u001b[38;5;241m.\u001b[39mextensions,\n\u001b[0;32m    288\u001b[0m )\n\u001b[1;32m--> 289\u001b[0m connect_response \u001b[38;5;241m=\u001b[39m \u001b[38;5;28;43mself\u001b[39;49m\u001b[38;5;241;43m.\u001b[39;49m\u001b[43m_connection\u001b[49m\u001b[38;5;241;43m.\u001b[39;49m\u001b[43mhandle_request\u001b[49m\u001b[43m(\u001b[49m\n\u001b[0;32m    290\u001b[0m \u001b[43m    \u001b[49m\u001b[43mconnect_request\u001b[49m\n\u001b[0;32m    291\u001b[0m \u001b[43m\u001b[49m\u001b[43m)\u001b[49m\n\u001b[0;32m    293\u001b[0m \u001b[38;5;28;01mif\u001b[39;00m connect_response\u001b[38;5;241m.\u001b[39mstatus \u001b[38;5;241m<\u001b[39m \u001b[38;5;241m200\u001b[39m \u001b[38;5;129;01mor\u001b[39;00m connect_response\u001b[38;5;241m.\u001b[39mstatus \u001b[38;5;241m>\u001b[39m \u001b[38;5;241m299\u001b[39m:\n",
      "File \u001b[1;32m~\\.conda\\envs\\cas\\lib\\site-packages\\httpcore\\_sync\\connection.py:99\u001b[0m, in \u001b[0;36mHTTPConnection.handle_request\u001b[1;34m(self, request)\u001b[0m\n\u001b[0;32m     98\u001b[0m     \u001b[38;5;28mself\u001b[39m\u001b[38;5;241m.\u001b[39m_connect_failed \u001b[38;5;241m=\u001b[39m \u001b[38;5;28;01mTrue\u001b[39;00m\n\u001b[1;32m---> 99\u001b[0m     \u001b[38;5;28;01mraise\u001b[39;00m exc\n\u001b[0;32m    101\u001b[0m \u001b[38;5;28;01mreturn\u001b[39;00m \u001b[38;5;28mself\u001b[39m\u001b[38;5;241m.\u001b[39m_connection\u001b[38;5;241m.\u001b[39mhandle_request(request)\n",
      "File \u001b[1;32m~\\.conda\\envs\\cas\\lib\\site-packages\\httpcore\\_sync\\connection.py:76\u001b[0m, in \u001b[0;36mHTTPConnection.handle_request\u001b[1;34m(self, request)\u001b[0m\n\u001b[0;32m     75\u001b[0m \u001b[38;5;28;01mif\u001b[39;00m \u001b[38;5;28mself\u001b[39m\u001b[38;5;241m.\u001b[39m_connection \u001b[38;5;129;01mis\u001b[39;00m \u001b[38;5;28;01mNone\u001b[39;00m:\n\u001b[1;32m---> 76\u001b[0m     stream \u001b[38;5;241m=\u001b[39m \u001b[38;5;28;43mself\u001b[39;49m\u001b[38;5;241;43m.\u001b[39;49m\u001b[43m_connect\u001b[49m\u001b[43m(\u001b[49m\u001b[43mrequest\u001b[49m\u001b[43m)\u001b[49m\n\u001b[0;32m     78\u001b[0m     ssl_object \u001b[38;5;241m=\u001b[39m stream\u001b[38;5;241m.\u001b[39mget_extra_info(\u001b[38;5;124m\"\u001b[39m\u001b[38;5;124mssl_object\u001b[39m\u001b[38;5;124m\"\u001b[39m)\n",
      "File \u001b[1;32m~\\.conda\\envs\\cas\\lib\\site-packages\\httpcore\\_sync\\connection.py:122\u001b[0m, in \u001b[0;36mHTTPConnection._connect\u001b[1;34m(self, request)\u001b[0m\n\u001b[0;32m    121\u001b[0m \u001b[38;5;28;01mwith\u001b[39;00m Trace(\u001b[38;5;124m\"\u001b[39m\u001b[38;5;124mconnect_tcp\u001b[39m\u001b[38;5;124m\"\u001b[39m, logger, request, kwargs) \u001b[38;5;28;01mas\u001b[39;00m trace:\n\u001b[1;32m--> 122\u001b[0m     stream \u001b[38;5;241m=\u001b[39m \u001b[38;5;28mself\u001b[39m\u001b[38;5;241m.\u001b[39m_network_backend\u001b[38;5;241m.\u001b[39mconnect_tcp(\u001b[38;5;241m*\u001b[39m\u001b[38;5;241m*\u001b[39mkwargs)\n\u001b[0;32m    123\u001b[0m     trace\u001b[38;5;241m.\u001b[39mreturn_value \u001b[38;5;241m=\u001b[39m stream\n",
      "File \u001b[1;32m~\\.conda\\envs\\cas\\lib\\site-packages\\httpcore\\_backends\\sync.py:205\u001b[0m, in \u001b[0;36mSyncBackend.connect_tcp\u001b[1;34m(self, host, port, timeout, local_address, socket_options)\u001b[0m\n\u001b[0;32m    200\u001b[0m exc_map: ExceptionMapping \u001b[38;5;241m=\u001b[39m {\n\u001b[0;32m    201\u001b[0m     socket\u001b[38;5;241m.\u001b[39mtimeout: ConnectTimeout,\n\u001b[0;32m    202\u001b[0m     \u001b[38;5;167;01mOSError\u001b[39;00m: ConnectError,\n\u001b[0;32m    203\u001b[0m }\n\u001b[1;32m--> 205\u001b[0m \u001b[38;5;28;01mwith\u001b[39;00m map_exceptions(exc_map):\n\u001b[0;32m    206\u001b[0m     sock \u001b[38;5;241m=\u001b[39m socket\u001b[38;5;241m.\u001b[39mcreate_connection(\n\u001b[0;32m    207\u001b[0m         address,\n\u001b[0;32m    208\u001b[0m         timeout,\n\u001b[0;32m    209\u001b[0m         source_address\u001b[38;5;241m=\u001b[39msource_address,\n\u001b[0;32m    210\u001b[0m     )\n",
      "File \u001b[1;32m~\\.conda\\envs\\cas\\lib\\contextlib.py:153\u001b[0m, in \u001b[0;36m_GeneratorContextManager.__exit__\u001b[1;34m(self, typ, value, traceback)\u001b[0m\n\u001b[0;32m    152\u001b[0m \u001b[38;5;28;01mtry\u001b[39;00m:\n\u001b[1;32m--> 153\u001b[0m     \u001b[38;5;28;43mself\u001b[39;49m\u001b[38;5;241;43m.\u001b[39;49m\u001b[43mgen\u001b[49m\u001b[38;5;241;43m.\u001b[39;49m\u001b[43mthrow\u001b[49m\u001b[43m(\u001b[49m\u001b[43mtyp\u001b[49m\u001b[43m,\u001b[49m\u001b[43m \u001b[49m\u001b[43mvalue\u001b[49m\u001b[43m,\u001b[49m\u001b[43m \u001b[49m\u001b[43mtraceback\u001b[49m\u001b[43m)\u001b[49m\n\u001b[0;32m    154\u001b[0m \u001b[38;5;28;01mexcept\u001b[39;00m \u001b[38;5;167;01mStopIteration\u001b[39;00m \u001b[38;5;28;01mas\u001b[39;00m exc:\n\u001b[0;32m    155\u001b[0m     \u001b[38;5;66;03m# Suppress StopIteration *unless* it's the same exception that\u001b[39;00m\n\u001b[0;32m    156\u001b[0m     \u001b[38;5;66;03m# was passed to throw().  This prevents a StopIteration\u001b[39;00m\n\u001b[0;32m    157\u001b[0m     \u001b[38;5;66;03m# raised inside the \"with\" statement from being suppressed.\u001b[39;00m\n",
      "File \u001b[1;32m~\\.conda\\envs\\cas\\lib\\site-packages\\httpcore\\_exceptions.py:14\u001b[0m, in \u001b[0;36mmap_exceptions\u001b[1;34m(map)\u001b[0m\n\u001b[0;32m     13\u001b[0m     \u001b[38;5;28;01mif\u001b[39;00m \u001b[38;5;28misinstance\u001b[39m(exc, from_exc):\n\u001b[1;32m---> 14\u001b[0m         \u001b[38;5;28;01mraise\u001b[39;00m to_exc(exc) \u001b[38;5;28;01mfrom\u001b[39;00m \u001b[38;5;21;01mexc\u001b[39;00m\n\u001b[0;32m     15\u001b[0m \u001b[38;5;28;01mraise\u001b[39;00m\n",
      "\u001b[1;31mConnectError\u001b[0m: [WinError 10061] No connection could be made because the target machine actively refused it",
      "\nThe above exception was the direct cause of the following exception:\n",
      "\u001b[1;31mConnectError\u001b[0m                              Traceback (most recent call last)",
      "File \u001b[1;32m~\\.conda\\envs\\cas\\lib\\site-packages\\openai\\_base_client.py:952\u001b[0m, in \u001b[0;36mSyncAPIClient._request\u001b[1;34m(self, cast_to, options, remaining_retries, stream, stream_cls)\u001b[0m\n\u001b[0;32m    951\u001b[0m \u001b[38;5;28;01mtry\u001b[39;00m:\n\u001b[1;32m--> 952\u001b[0m     response \u001b[38;5;241m=\u001b[39m \u001b[38;5;28mself\u001b[39m\u001b[38;5;241m.\u001b[39m_client\u001b[38;5;241m.\u001b[39msend(\n\u001b[0;32m    953\u001b[0m         request,\n\u001b[0;32m    954\u001b[0m         stream\u001b[38;5;241m=\u001b[39mstream \u001b[38;5;129;01mor\u001b[39;00m \u001b[38;5;28mself\u001b[39m\u001b[38;5;241m.\u001b[39m_should_stream_response_body(request\u001b[38;5;241m=\u001b[39mrequest),\n\u001b[0;32m    955\u001b[0m         \u001b[38;5;241m*\u001b[39m\u001b[38;5;241m*\u001b[39mkwargs,\n\u001b[0;32m    956\u001b[0m     )\n\u001b[0;32m    957\u001b[0m \u001b[38;5;28;01mexcept\u001b[39;00m httpx\u001b[38;5;241m.\u001b[39mTimeoutException \u001b[38;5;28;01mas\u001b[39;00m err:\n",
      "File \u001b[1;32m~\\.conda\\envs\\cas\\lib\\site-packages\\httpx\\_client.py:914\u001b[0m, in \u001b[0;36mClient.send\u001b[1;34m(self, request, stream, auth, follow_redirects)\u001b[0m\n\u001b[0;32m    912\u001b[0m auth \u001b[38;5;241m=\u001b[39m \u001b[38;5;28mself\u001b[39m\u001b[38;5;241m.\u001b[39m_build_request_auth(request, auth)\n\u001b[1;32m--> 914\u001b[0m response \u001b[38;5;241m=\u001b[39m \u001b[38;5;28;43mself\u001b[39;49m\u001b[38;5;241;43m.\u001b[39;49m\u001b[43m_send_handling_auth\u001b[49m\u001b[43m(\u001b[49m\n\u001b[0;32m    915\u001b[0m \u001b[43m    \u001b[49m\u001b[43mrequest\u001b[49m\u001b[43m,\u001b[49m\n\u001b[0;32m    916\u001b[0m \u001b[43m    \u001b[49m\u001b[43mauth\u001b[49m\u001b[38;5;241;43m=\u001b[39;49m\u001b[43mauth\u001b[49m\u001b[43m,\u001b[49m\n\u001b[0;32m    917\u001b[0m \u001b[43m    \u001b[49m\u001b[43mfollow_redirects\u001b[49m\u001b[38;5;241;43m=\u001b[39;49m\u001b[43mfollow_redirects\u001b[49m\u001b[43m,\u001b[49m\n\u001b[0;32m    918\u001b[0m \u001b[43m    \u001b[49m\u001b[43mhistory\u001b[49m\u001b[38;5;241;43m=\u001b[39;49m\u001b[43m[\u001b[49m\u001b[43m]\u001b[49m\u001b[43m,\u001b[49m\n\u001b[0;32m    919\u001b[0m \u001b[43m\u001b[49m\u001b[43m)\u001b[49m\n\u001b[0;32m    920\u001b[0m \u001b[38;5;28;01mtry\u001b[39;00m:\n",
      "File \u001b[1;32m~\\.conda\\envs\\cas\\lib\\site-packages\\httpx\\_client.py:942\u001b[0m, in \u001b[0;36mClient._send_handling_auth\u001b[1;34m(self, request, auth, follow_redirects, history)\u001b[0m\n\u001b[0;32m    941\u001b[0m \u001b[38;5;28;01mwhile\u001b[39;00m \u001b[38;5;28;01mTrue\u001b[39;00m:\n\u001b[1;32m--> 942\u001b[0m     response \u001b[38;5;241m=\u001b[39m \u001b[38;5;28;43mself\u001b[39;49m\u001b[38;5;241;43m.\u001b[39;49m\u001b[43m_send_handling_redirects\u001b[49m\u001b[43m(\u001b[49m\n\u001b[0;32m    943\u001b[0m \u001b[43m        \u001b[49m\u001b[43mrequest\u001b[49m\u001b[43m,\u001b[49m\n\u001b[0;32m    944\u001b[0m \u001b[43m        \u001b[49m\u001b[43mfollow_redirects\u001b[49m\u001b[38;5;241;43m=\u001b[39;49m\u001b[43mfollow_redirects\u001b[49m\u001b[43m,\u001b[49m\n\u001b[0;32m    945\u001b[0m \u001b[43m        \u001b[49m\u001b[43mhistory\u001b[49m\u001b[38;5;241;43m=\u001b[39;49m\u001b[43mhistory\u001b[49m\u001b[43m,\u001b[49m\n\u001b[0;32m    946\u001b[0m \u001b[43m    \u001b[49m\u001b[43m)\u001b[49m\n\u001b[0;32m    947\u001b[0m     \u001b[38;5;28;01mtry\u001b[39;00m:\n",
      "File \u001b[1;32m~\\.conda\\envs\\cas\\lib\\site-packages\\httpx\\_client.py:979\u001b[0m, in \u001b[0;36mClient._send_handling_redirects\u001b[1;34m(self, request, follow_redirects, history)\u001b[0m\n\u001b[0;32m    977\u001b[0m     hook(request)\n\u001b[1;32m--> 979\u001b[0m response \u001b[38;5;241m=\u001b[39m \u001b[38;5;28;43mself\u001b[39;49m\u001b[38;5;241;43m.\u001b[39;49m\u001b[43m_send_single_request\u001b[49m\u001b[43m(\u001b[49m\u001b[43mrequest\u001b[49m\u001b[43m)\u001b[49m\n\u001b[0;32m    980\u001b[0m \u001b[38;5;28;01mtry\u001b[39;00m:\n",
      "File \u001b[1;32m~\\.conda\\envs\\cas\\lib\\site-packages\\httpx\\_client.py:1015\u001b[0m, in \u001b[0;36mClient._send_single_request\u001b[1;34m(self, request)\u001b[0m\n\u001b[0;32m   1014\u001b[0m \u001b[38;5;28;01mwith\u001b[39;00m request_context(request\u001b[38;5;241m=\u001b[39mrequest):\n\u001b[1;32m-> 1015\u001b[0m     response \u001b[38;5;241m=\u001b[39m \u001b[43mtransport\u001b[49m\u001b[38;5;241;43m.\u001b[39;49m\u001b[43mhandle_request\u001b[49m\u001b[43m(\u001b[49m\u001b[43mrequest\u001b[49m\u001b[43m)\u001b[49m\n\u001b[0;32m   1017\u001b[0m \u001b[38;5;28;01massert\u001b[39;00m \u001b[38;5;28misinstance\u001b[39m(response\u001b[38;5;241m.\u001b[39mstream, SyncByteStream)\n",
      "File \u001b[1;32m~\\.conda\\envs\\cas\\lib\\site-packages\\httpx\\_transports\\default.py:232\u001b[0m, in \u001b[0;36mHTTPTransport.handle_request\u001b[1;34m(self, request)\u001b[0m\n\u001b[0;32m    220\u001b[0m req \u001b[38;5;241m=\u001b[39m httpcore\u001b[38;5;241m.\u001b[39mRequest(\n\u001b[0;32m    221\u001b[0m     method\u001b[38;5;241m=\u001b[39mrequest\u001b[38;5;241m.\u001b[39mmethod,\n\u001b[0;32m    222\u001b[0m     url\u001b[38;5;241m=\u001b[39mhttpcore\u001b[38;5;241m.\u001b[39mURL(\n\u001b[1;32m   (...)\u001b[0m\n\u001b[0;32m    230\u001b[0m     extensions\u001b[38;5;241m=\u001b[39mrequest\u001b[38;5;241m.\u001b[39mextensions,\n\u001b[0;32m    231\u001b[0m )\n\u001b[1;32m--> 232\u001b[0m \u001b[38;5;28;01mwith\u001b[39;00m map_httpcore_exceptions():\n\u001b[0;32m    233\u001b[0m     resp \u001b[38;5;241m=\u001b[39m \u001b[38;5;28mself\u001b[39m\u001b[38;5;241m.\u001b[39m_pool\u001b[38;5;241m.\u001b[39mhandle_request(req)\n",
      "File \u001b[1;32m~\\.conda\\envs\\cas\\lib\\contextlib.py:153\u001b[0m, in \u001b[0;36m_GeneratorContextManager.__exit__\u001b[1;34m(self, typ, value, traceback)\u001b[0m\n\u001b[0;32m    152\u001b[0m \u001b[38;5;28;01mtry\u001b[39;00m:\n\u001b[1;32m--> 153\u001b[0m     \u001b[38;5;28;43mself\u001b[39;49m\u001b[38;5;241;43m.\u001b[39;49m\u001b[43mgen\u001b[49m\u001b[38;5;241;43m.\u001b[39;49m\u001b[43mthrow\u001b[49m\u001b[43m(\u001b[49m\u001b[43mtyp\u001b[49m\u001b[43m,\u001b[49m\u001b[43m \u001b[49m\u001b[43mvalue\u001b[49m\u001b[43m,\u001b[49m\u001b[43m \u001b[49m\u001b[43mtraceback\u001b[49m\u001b[43m)\u001b[49m\n\u001b[0;32m    154\u001b[0m \u001b[38;5;28;01mexcept\u001b[39;00m \u001b[38;5;167;01mStopIteration\u001b[39;00m \u001b[38;5;28;01mas\u001b[39;00m exc:\n\u001b[0;32m    155\u001b[0m     \u001b[38;5;66;03m# Suppress StopIteration *unless* it's the same exception that\u001b[39;00m\n\u001b[0;32m    156\u001b[0m     \u001b[38;5;66;03m# was passed to throw().  This prevents a StopIteration\u001b[39;00m\n\u001b[0;32m    157\u001b[0m     \u001b[38;5;66;03m# raised inside the \"with\" statement from being suppressed.\u001b[39;00m\n",
      "File \u001b[1;32m~\\.conda\\envs\\cas\\lib\\site-packages\\httpx\\_transports\\default.py:86\u001b[0m, in \u001b[0;36mmap_httpcore_exceptions\u001b[1;34m()\u001b[0m\n\u001b[0;32m     85\u001b[0m message \u001b[38;5;241m=\u001b[39m \u001b[38;5;28mstr\u001b[39m(exc)\n\u001b[1;32m---> 86\u001b[0m \u001b[38;5;28;01mraise\u001b[39;00m mapped_exc(message) \u001b[38;5;28;01mfrom\u001b[39;00m \u001b[38;5;21;01mexc\u001b[39;00m\n",
      "\u001b[1;31mConnectError\u001b[0m: [WinError 10061] No connection could be made because the target machine actively refused it",
      "\nThe above exception was the direct cause of the following exception:\n",
      "\u001b[1;31mAPIConnectionError\u001b[0m                        Traceback (most recent call last)",
      "Cell \u001b[1;32mIn[2], line 2\u001b[0m\n\u001b[0;32m      1\u001b[0m terms_and_conditions \u001b[38;5;241m=\u001b[39m pd\u001b[38;5;241m.\u001b[39mread_csv(\u001b[38;5;124m\"\u001b[39m\u001b[38;5;124mdata/MF-AVB.csv\u001b[39m\u001b[38;5;124m\"\u001b[39m, sep\u001b[38;5;241m=\u001b[39m\u001b[38;5;124m\"\u001b[39m\u001b[38;5;124m@\u001b[39m\u001b[38;5;124m\"\u001b[39m)\n\u001b[1;32m----> 2\u001b[0m terms_and_conditions[\u001b[38;5;124m\"\u001b[39m\u001b[38;5;124membedding\u001b[39m\u001b[38;5;124m\"\u001b[39m] \u001b[38;5;241m=\u001b[39m \u001b[43membedding_model\u001b[49m\u001b[38;5;241;43m.\u001b[39;49m\u001b[43membed_documents\u001b[49m\u001b[43m(\u001b[49m\u001b[43mterms_and_conditions\u001b[49m\u001b[43m[\u001b[49m\u001b[38;5;124;43m\"\u001b[39;49m\u001b[38;5;124;43mText\u001b[39;49m\u001b[38;5;124;43m\"\u001b[39;49m\u001b[43m]\u001b[49m\u001b[43m)\u001b[49m\n\u001b[0;32m      3\u001b[0m terms_and_conditions\u001b[38;5;241m.\u001b[39mhead(\u001b[38;5;241m3\u001b[39m)\n",
      "File \u001b[1;32m~\\.conda\\envs\\cas\\lib\\site-packages\\langchain_openai\\embeddings\\base.py:489\u001b[0m, in \u001b[0;36mOpenAIEmbeddings.embed_documents\u001b[1;34m(self, texts, chunk_size)\u001b[0m\n\u001b[0;32m    486\u001b[0m \u001b[38;5;66;03m# NOTE: to keep things simple, we assume the list may contain texts longer\u001b[39;00m\n\u001b[0;32m    487\u001b[0m \u001b[38;5;66;03m#       than the maximum context and use length-safe embedding function.\u001b[39;00m\n\u001b[0;32m    488\u001b[0m engine \u001b[38;5;241m=\u001b[39m cast(\u001b[38;5;28mstr\u001b[39m, \u001b[38;5;28mself\u001b[39m\u001b[38;5;241m.\u001b[39mdeployment)\n\u001b[1;32m--> 489\u001b[0m \u001b[38;5;28;01mreturn\u001b[39;00m \u001b[38;5;28;43mself\u001b[39;49m\u001b[38;5;241;43m.\u001b[39;49m\u001b[43m_get_len_safe_embeddings\u001b[49m\u001b[43m(\u001b[49m\u001b[43mtexts\u001b[49m\u001b[43m,\u001b[49m\u001b[43m \u001b[49m\u001b[43mengine\u001b[49m\u001b[38;5;241;43m=\u001b[39;49m\u001b[43mengine\u001b[49m\u001b[43m)\u001b[49m\n",
      "File \u001b[1;32m~\\.conda\\envs\\cas\\lib\\site-packages\\langchain_openai\\embeddings\\base.py:347\u001b[0m, in \u001b[0;36mOpenAIEmbeddings._get_len_safe_embeddings\u001b[1;34m(self, texts, engine, chunk_size)\u001b[0m\n\u001b[0;32m    345\u001b[0m batched_embeddings: List[List[\u001b[38;5;28mfloat\u001b[39m]] \u001b[38;5;241m=\u001b[39m []\n\u001b[0;32m    346\u001b[0m \u001b[38;5;28;01mfor\u001b[39;00m i \u001b[38;5;129;01min\u001b[39;00m _iter:\n\u001b[1;32m--> 347\u001b[0m     response \u001b[38;5;241m=\u001b[39m \u001b[38;5;28mself\u001b[39m\u001b[38;5;241m.\u001b[39mclient\u001b[38;5;241m.\u001b[39mcreate(\n\u001b[0;32m    348\u001b[0m         \u001b[38;5;28minput\u001b[39m\u001b[38;5;241m=\u001b[39mtokens[i : i \u001b[38;5;241m+\u001b[39m _chunk_size], \u001b[38;5;241m*\u001b[39m\u001b[38;5;241m*\u001b[39m\u001b[38;5;28mself\u001b[39m\u001b[38;5;241m.\u001b[39m_invocation_params\n\u001b[0;32m    349\u001b[0m     )\n\u001b[0;32m    350\u001b[0m     \u001b[38;5;28;01mif\u001b[39;00m \u001b[38;5;129;01mnot\u001b[39;00m \u001b[38;5;28misinstance\u001b[39m(response, \u001b[38;5;28mdict\u001b[39m):\n\u001b[0;32m    351\u001b[0m         response \u001b[38;5;241m=\u001b[39m response\u001b[38;5;241m.\u001b[39mmodel_dump()\n",
      "File \u001b[1;32m~\\.conda\\envs\\cas\\lib\\site-packages\\openai\\resources\\embeddings.py:114\u001b[0m, in \u001b[0;36mEmbeddings.create\u001b[1;34m(self, input, model, dimensions, encoding_format, user, extra_headers, extra_query, extra_body, timeout)\u001b[0m\n\u001b[0;32m    108\u001b[0m         embedding\u001b[38;5;241m.\u001b[39membedding \u001b[38;5;241m=\u001b[39m np\u001b[38;5;241m.\u001b[39mfrombuffer(  \u001b[38;5;66;03m# type: ignore[no-untyped-call]\u001b[39;00m\n\u001b[0;32m    109\u001b[0m             base64\u001b[38;5;241m.\u001b[39mb64decode(data), dtype\u001b[38;5;241m=\u001b[39m\u001b[38;5;124m\"\u001b[39m\u001b[38;5;124mfloat32\u001b[39m\u001b[38;5;124m\"\u001b[39m\n\u001b[0;32m    110\u001b[0m         )\u001b[38;5;241m.\u001b[39mtolist()\n\u001b[0;32m    112\u001b[0m     \u001b[38;5;28;01mreturn\u001b[39;00m obj\n\u001b[1;32m--> 114\u001b[0m \u001b[38;5;28;01mreturn\u001b[39;00m \u001b[38;5;28;43mself\u001b[39;49m\u001b[38;5;241;43m.\u001b[39;49m\u001b[43m_post\u001b[49m\u001b[43m(\u001b[49m\n\u001b[0;32m    115\u001b[0m \u001b[43m    \u001b[49m\u001b[38;5;124;43m\"\u001b[39;49m\u001b[38;5;124;43m/embeddings\u001b[39;49m\u001b[38;5;124;43m\"\u001b[39;49m\u001b[43m,\u001b[49m\n\u001b[0;32m    116\u001b[0m \u001b[43m    \u001b[49m\u001b[43mbody\u001b[49m\u001b[38;5;241;43m=\u001b[39;49m\u001b[43mmaybe_transform\u001b[49m\u001b[43m(\u001b[49m\u001b[43mparams\u001b[49m\u001b[43m,\u001b[49m\u001b[43m \u001b[49m\u001b[43membedding_create_params\u001b[49m\u001b[38;5;241;43m.\u001b[39;49m\u001b[43mEmbeddingCreateParams\u001b[49m\u001b[43m)\u001b[49m\u001b[43m,\u001b[49m\n\u001b[0;32m    117\u001b[0m \u001b[43m    \u001b[49m\u001b[43moptions\u001b[49m\u001b[38;5;241;43m=\u001b[39;49m\u001b[43mmake_request_options\u001b[49m\u001b[43m(\u001b[49m\n\u001b[0;32m    118\u001b[0m \u001b[43m        \u001b[49m\u001b[43mextra_headers\u001b[49m\u001b[38;5;241;43m=\u001b[39;49m\u001b[43mextra_headers\u001b[49m\u001b[43m,\u001b[49m\n\u001b[0;32m    119\u001b[0m \u001b[43m        \u001b[49m\u001b[43mextra_query\u001b[49m\u001b[38;5;241;43m=\u001b[39;49m\u001b[43mextra_query\u001b[49m\u001b[43m,\u001b[49m\n\u001b[0;32m    120\u001b[0m \u001b[43m        \u001b[49m\u001b[43mextra_body\u001b[49m\u001b[38;5;241;43m=\u001b[39;49m\u001b[43mextra_body\u001b[49m\u001b[43m,\u001b[49m\n\u001b[0;32m    121\u001b[0m \u001b[43m        \u001b[49m\u001b[43mtimeout\u001b[49m\u001b[38;5;241;43m=\u001b[39;49m\u001b[43mtimeout\u001b[49m\u001b[43m,\u001b[49m\n\u001b[0;32m    122\u001b[0m \u001b[43m        \u001b[49m\u001b[43mpost_parser\u001b[49m\u001b[38;5;241;43m=\u001b[39;49m\u001b[43mparser\u001b[49m\u001b[43m,\u001b[49m\n\u001b[0;32m    123\u001b[0m \u001b[43m    \u001b[49m\u001b[43m)\u001b[49m\u001b[43m,\u001b[49m\n\u001b[0;32m    124\u001b[0m \u001b[43m    \u001b[49m\u001b[43mcast_to\u001b[49m\u001b[38;5;241;43m=\u001b[39;49m\u001b[43mCreateEmbeddingResponse\u001b[49m\u001b[43m,\u001b[49m\n\u001b[0;32m    125\u001b[0m \u001b[43m\u001b[49m\u001b[43m)\u001b[49m\n",
      "File \u001b[1;32m~\\.conda\\envs\\cas\\lib\\site-packages\\openai\\_base_client.py:1240\u001b[0m, in \u001b[0;36mSyncAPIClient.post\u001b[1;34m(self, path, cast_to, body, options, files, stream, stream_cls)\u001b[0m\n\u001b[0;32m   1226\u001b[0m \u001b[38;5;28;01mdef\u001b[39;00m \u001b[38;5;21mpost\u001b[39m(\n\u001b[0;32m   1227\u001b[0m     \u001b[38;5;28mself\u001b[39m,\n\u001b[0;32m   1228\u001b[0m     path: \u001b[38;5;28mstr\u001b[39m,\n\u001b[1;32m   (...)\u001b[0m\n\u001b[0;32m   1235\u001b[0m     stream_cls: \u001b[38;5;28mtype\u001b[39m[_StreamT] \u001b[38;5;241m|\u001b[39m \u001b[38;5;28;01mNone\u001b[39;00m \u001b[38;5;241m=\u001b[39m \u001b[38;5;28;01mNone\u001b[39;00m,\n\u001b[0;32m   1236\u001b[0m ) \u001b[38;5;241m-\u001b[39m\u001b[38;5;241m>\u001b[39m ResponseT \u001b[38;5;241m|\u001b[39m _StreamT:\n\u001b[0;32m   1237\u001b[0m     opts \u001b[38;5;241m=\u001b[39m FinalRequestOptions\u001b[38;5;241m.\u001b[39mconstruct(\n\u001b[0;32m   1238\u001b[0m         method\u001b[38;5;241m=\u001b[39m\u001b[38;5;124m\"\u001b[39m\u001b[38;5;124mpost\u001b[39m\u001b[38;5;124m\"\u001b[39m, url\u001b[38;5;241m=\u001b[39mpath, json_data\u001b[38;5;241m=\u001b[39mbody, files\u001b[38;5;241m=\u001b[39mto_httpx_files(files), \u001b[38;5;241m*\u001b[39m\u001b[38;5;241m*\u001b[39moptions\n\u001b[0;32m   1239\u001b[0m     )\n\u001b[1;32m-> 1240\u001b[0m     \u001b[38;5;28;01mreturn\u001b[39;00m cast(ResponseT, \u001b[38;5;28;43mself\u001b[39;49m\u001b[38;5;241;43m.\u001b[39;49m\u001b[43mrequest\u001b[49m\u001b[43m(\u001b[49m\u001b[43mcast_to\u001b[49m\u001b[43m,\u001b[49m\u001b[43m \u001b[49m\u001b[43mopts\u001b[49m\u001b[43m,\u001b[49m\u001b[43m \u001b[49m\u001b[43mstream\u001b[49m\u001b[38;5;241;43m=\u001b[39;49m\u001b[43mstream\u001b[49m\u001b[43m,\u001b[49m\u001b[43m \u001b[49m\u001b[43mstream_cls\u001b[49m\u001b[38;5;241;43m=\u001b[39;49m\u001b[43mstream_cls\u001b[49m\u001b[43m)\u001b[49m)\n",
      "File \u001b[1;32m~\\.conda\\envs\\cas\\lib\\site-packages\\openai\\_base_client.py:921\u001b[0m, in \u001b[0;36mSyncAPIClient.request\u001b[1;34m(self, cast_to, options, remaining_retries, stream, stream_cls)\u001b[0m\n\u001b[0;32m    912\u001b[0m \u001b[38;5;28;01mdef\u001b[39;00m \u001b[38;5;21mrequest\u001b[39m(\n\u001b[0;32m    913\u001b[0m     \u001b[38;5;28mself\u001b[39m,\n\u001b[0;32m    914\u001b[0m     cast_to: Type[ResponseT],\n\u001b[1;32m   (...)\u001b[0m\n\u001b[0;32m    919\u001b[0m     stream_cls: \u001b[38;5;28mtype\u001b[39m[_StreamT] \u001b[38;5;241m|\u001b[39m \u001b[38;5;28;01mNone\u001b[39;00m \u001b[38;5;241m=\u001b[39m \u001b[38;5;28;01mNone\u001b[39;00m,\n\u001b[0;32m    920\u001b[0m ) \u001b[38;5;241m-\u001b[39m\u001b[38;5;241m>\u001b[39m ResponseT \u001b[38;5;241m|\u001b[39m _StreamT:\n\u001b[1;32m--> 921\u001b[0m     \u001b[38;5;28;01mreturn\u001b[39;00m \u001b[38;5;28;43mself\u001b[39;49m\u001b[38;5;241;43m.\u001b[39;49m\u001b[43m_request\u001b[49m\u001b[43m(\u001b[49m\n\u001b[0;32m    922\u001b[0m \u001b[43m        \u001b[49m\u001b[43mcast_to\u001b[49m\u001b[38;5;241;43m=\u001b[39;49m\u001b[43mcast_to\u001b[49m\u001b[43m,\u001b[49m\n\u001b[0;32m    923\u001b[0m \u001b[43m        \u001b[49m\u001b[43moptions\u001b[49m\u001b[38;5;241;43m=\u001b[39;49m\u001b[43moptions\u001b[49m\u001b[43m,\u001b[49m\n\u001b[0;32m    924\u001b[0m \u001b[43m        \u001b[49m\u001b[43mstream\u001b[49m\u001b[38;5;241;43m=\u001b[39;49m\u001b[43mstream\u001b[49m\u001b[43m,\u001b[49m\n\u001b[0;32m    925\u001b[0m \u001b[43m        \u001b[49m\u001b[43mstream_cls\u001b[49m\u001b[38;5;241;43m=\u001b[39;49m\u001b[43mstream_cls\u001b[49m\u001b[43m,\u001b[49m\n\u001b[0;32m    926\u001b[0m \u001b[43m        \u001b[49m\u001b[43mremaining_retries\u001b[49m\u001b[38;5;241;43m=\u001b[39;49m\u001b[43mremaining_retries\u001b[49m\u001b[43m,\u001b[49m\n\u001b[0;32m    927\u001b[0m \u001b[43m    \u001b[49m\u001b[43m)\u001b[49m\n",
      "File \u001b[1;32m~\\.conda\\envs\\cas\\lib\\site-packages\\openai\\_base_client.py:976\u001b[0m, in \u001b[0;36mSyncAPIClient._request\u001b[1;34m(self, cast_to, options, remaining_retries, stream, stream_cls)\u001b[0m\n\u001b[0;32m    973\u001b[0m log\u001b[38;5;241m.\u001b[39mdebug(\u001b[38;5;124m\"\u001b[39m\u001b[38;5;124mEncountered Exception\u001b[39m\u001b[38;5;124m\"\u001b[39m, exc_info\u001b[38;5;241m=\u001b[39m\u001b[38;5;28;01mTrue\u001b[39;00m)\n\u001b[0;32m    975\u001b[0m \u001b[38;5;28;01mif\u001b[39;00m retries \u001b[38;5;241m>\u001b[39m \u001b[38;5;241m0\u001b[39m:\n\u001b[1;32m--> 976\u001b[0m     \u001b[38;5;28;01mreturn\u001b[39;00m \u001b[38;5;28;43mself\u001b[39;49m\u001b[38;5;241;43m.\u001b[39;49m\u001b[43m_retry_request\u001b[49m\u001b[43m(\u001b[49m\n\u001b[0;32m    977\u001b[0m \u001b[43m        \u001b[49m\u001b[43moptions\u001b[49m\u001b[43m,\u001b[49m\n\u001b[0;32m    978\u001b[0m \u001b[43m        \u001b[49m\u001b[43mcast_to\u001b[49m\u001b[43m,\u001b[49m\n\u001b[0;32m    979\u001b[0m \u001b[43m        \u001b[49m\u001b[43mretries\u001b[49m\u001b[43m,\u001b[49m\n\u001b[0;32m    980\u001b[0m \u001b[43m        \u001b[49m\u001b[43mstream\u001b[49m\u001b[38;5;241;43m=\u001b[39;49m\u001b[43mstream\u001b[49m\u001b[43m,\u001b[49m\n\u001b[0;32m    981\u001b[0m \u001b[43m        \u001b[49m\u001b[43mstream_cls\u001b[49m\u001b[38;5;241;43m=\u001b[39;49m\u001b[43mstream_cls\u001b[49m\u001b[43m,\u001b[49m\n\u001b[0;32m    982\u001b[0m \u001b[43m        \u001b[49m\u001b[43mresponse_headers\u001b[49m\u001b[38;5;241;43m=\u001b[39;49m\u001b[38;5;28;43;01mNone\u001b[39;49;00m\u001b[43m,\u001b[49m\n\u001b[0;32m    983\u001b[0m \u001b[43m    \u001b[49m\u001b[43m)\u001b[49m\n\u001b[0;32m    985\u001b[0m log\u001b[38;5;241m.\u001b[39mdebug(\u001b[38;5;124m\"\u001b[39m\u001b[38;5;124mRaising connection error\u001b[39m\u001b[38;5;124m\"\u001b[39m)\n\u001b[0;32m    986\u001b[0m \u001b[38;5;28;01mraise\u001b[39;00m APIConnectionError(request\u001b[38;5;241m=\u001b[39mrequest) \u001b[38;5;28;01mfrom\u001b[39;00m \u001b[38;5;21;01merr\u001b[39;00m\n",
      "File \u001b[1;32m~\\.conda\\envs\\cas\\lib\\site-packages\\openai\\_base_client.py:1053\u001b[0m, in \u001b[0;36mSyncAPIClient._retry_request\u001b[1;34m(self, options, cast_to, remaining_retries, response_headers, stream, stream_cls)\u001b[0m\n\u001b[0;32m   1049\u001b[0m \u001b[38;5;66;03m# In a synchronous context we are blocking the entire thread. Up to the library user to run the client in a\u001b[39;00m\n\u001b[0;32m   1050\u001b[0m \u001b[38;5;66;03m# different thread if necessary.\u001b[39;00m\n\u001b[0;32m   1051\u001b[0m time\u001b[38;5;241m.\u001b[39msleep(timeout)\n\u001b[1;32m-> 1053\u001b[0m \u001b[38;5;28;01mreturn\u001b[39;00m \u001b[38;5;28;43mself\u001b[39;49m\u001b[38;5;241;43m.\u001b[39;49m\u001b[43m_request\u001b[49m\u001b[43m(\u001b[49m\n\u001b[0;32m   1054\u001b[0m \u001b[43m    \u001b[49m\u001b[43moptions\u001b[49m\u001b[38;5;241;43m=\u001b[39;49m\u001b[43moptions\u001b[49m\u001b[43m,\u001b[49m\n\u001b[0;32m   1055\u001b[0m \u001b[43m    \u001b[49m\u001b[43mcast_to\u001b[49m\u001b[38;5;241;43m=\u001b[39;49m\u001b[43mcast_to\u001b[49m\u001b[43m,\u001b[49m\n\u001b[0;32m   1056\u001b[0m \u001b[43m    \u001b[49m\u001b[43mremaining_retries\u001b[49m\u001b[38;5;241;43m=\u001b[39;49m\u001b[43mremaining\u001b[49m\u001b[43m,\u001b[49m\n\u001b[0;32m   1057\u001b[0m \u001b[43m    \u001b[49m\u001b[43mstream\u001b[49m\u001b[38;5;241;43m=\u001b[39;49m\u001b[43mstream\u001b[49m\u001b[43m,\u001b[49m\n\u001b[0;32m   1058\u001b[0m \u001b[43m    \u001b[49m\u001b[43mstream_cls\u001b[49m\u001b[38;5;241;43m=\u001b[39;49m\u001b[43mstream_cls\u001b[49m\u001b[43m,\u001b[49m\n\u001b[0;32m   1059\u001b[0m \u001b[43m\u001b[49m\u001b[43m)\u001b[49m\n",
      "File \u001b[1;32m~\\.conda\\envs\\cas\\lib\\site-packages\\openai\\_base_client.py:976\u001b[0m, in \u001b[0;36mSyncAPIClient._request\u001b[1;34m(self, cast_to, options, remaining_retries, stream, stream_cls)\u001b[0m\n\u001b[0;32m    973\u001b[0m log\u001b[38;5;241m.\u001b[39mdebug(\u001b[38;5;124m\"\u001b[39m\u001b[38;5;124mEncountered Exception\u001b[39m\u001b[38;5;124m\"\u001b[39m, exc_info\u001b[38;5;241m=\u001b[39m\u001b[38;5;28;01mTrue\u001b[39;00m)\n\u001b[0;32m    975\u001b[0m \u001b[38;5;28;01mif\u001b[39;00m retries \u001b[38;5;241m>\u001b[39m \u001b[38;5;241m0\u001b[39m:\n\u001b[1;32m--> 976\u001b[0m     \u001b[38;5;28;01mreturn\u001b[39;00m \u001b[38;5;28;43mself\u001b[39;49m\u001b[38;5;241;43m.\u001b[39;49m\u001b[43m_retry_request\u001b[49m\u001b[43m(\u001b[49m\n\u001b[0;32m    977\u001b[0m \u001b[43m        \u001b[49m\u001b[43moptions\u001b[49m\u001b[43m,\u001b[49m\n\u001b[0;32m    978\u001b[0m \u001b[43m        \u001b[49m\u001b[43mcast_to\u001b[49m\u001b[43m,\u001b[49m\n\u001b[0;32m    979\u001b[0m \u001b[43m        \u001b[49m\u001b[43mretries\u001b[49m\u001b[43m,\u001b[49m\n\u001b[0;32m    980\u001b[0m \u001b[43m        \u001b[49m\u001b[43mstream\u001b[49m\u001b[38;5;241;43m=\u001b[39;49m\u001b[43mstream\u001b[49m\u001b[43m,\u001b[49m\n\u001b[0;32m    981\u001b[0m \u001b[43m        \u001b[49m\u001b[43mstream_cls\u001b[49m\u001b[38;5;241;43m=\u001b[39;49m\u001b[43mstream_cls\u001b[49m\u001b[43m,\u001b[49m\n\u001b[0;32m    982\u001b[0m \u001b[43m        \u001b[49m\u001b[43mresponse_headers\u001b[49m\u001b[38;5;241;43m=\u001b[39;49m\u001b[38;5;28;43;01mNone\u001b[39;49;00m\u001b[43m,\u001b[49m\n\u001b[0;32m    983\u001b[0m \u001b[43m    \u001b[49m\u001b[43m)\u001b[49m\n\u001b[0;32m    985\u001b[0m log\u001b[38;5;241m.\u001b[39mdebug(\u001b[38;5;124m\"\u001b[39m\u001b[38;5;124mRaising connection error\u001b[39m\u001b[38;5;124m\"\u001b[39m)\n\u001b[0;32m    986\u001b[0m \u001b[38;5;28;01mraise\u001b[39;00m APIConnectionError(request\u001b[38;5;241m=\u001b[39mrequest) \u001b[38;5;28;01mfrom\u001b[39;00m \u001b[38;5;21;01merr\u001b[39;00m\n",
      "File \u001b[1;32m~\\.conda\\envs\\cas\\lib\\site-packages\\openai\\_base_client.py:1053\u001b[0m, in \u001b[0;36mSyncAPIClient._retry_request\u001b[1;34m(self, options, cast_to, remaining_retries, response_headers, stream, stream_cls)\u001b[0m\n\u001b[0;32m   1049\u001b[0m \u001b[38;5;66;03m# In a synchronous context we are blocking the entire thread. Up to the library user to run the client in a\u001b[39;00m\n\u001b[0;32m   1050\u001b[0m \u001b[38;5;66;03m# different thread if necessary.\u001b[39;00m\n\u001b[0;32m   1051\u001b[0m time\u001b[38;5;241m.\u001b[39msleep(timeout)\n\u001b[1;32m-> 1053\u001b[0m \u001b[38;5;28;01mreturn\u001b[39;00m \u001b[38;5;28;43mself\u001b[39;49m\u001b[38;5;241;43m.\u001b[39;49m\u001b[43m_request\u001b[49m\u001b[43m(\u001b[49m\n\u001b[0;32m   1054\u001b[0m \u001b[43m    \u001b[49m\u001b[43moptions\u001b[49m\u001b[38;5;241;43m=\u001b[39;49m\u001b[43moptions\u001b[49m\u001b[43m,\u001b[49m\n\u001b[0;32m   1055\u001b[0m \u001b[43m    \u001b[49m\u001b[43mcast_to\u001b[49m\u001b[38;5;241;43m=\u001b[39;49m\u001b[43mcast_to\u001b[49m\u001b[43m,\u001b[49m\n\u001b[0;32m   1056\u001b[0m \u001b[43m    \u001b[49m\u001b[43mremaining_retries\u001b[49m\u001b[38;5;241;43m=\u001b[39;49m\u001b[43mremaining\u001b[49m\u001b[43m,\u001b[49m\n\u001b[0;32m   1057\u001b[0m \u001b[43m    \u001b[49m\u001b[43mstream\u001b[49m\u001b[38;5;241;43m=\u001b[39;49m\u001b[43mstream\u001b[49m\u001b[43m,\u001b[49m\n\u001b[0;32m   1058\u001b[0m \u001b[43m    \u001b[49m\u001b[43mstream_cls\u001b[49m\u001b[38;5;241;43m=\u001b[39;49m\u001b[43mstream_cls\u001b[49m\u001b[43m,\u001b[49m\n\u001b[0;32m   1059\u001b[0m \u001b[43m\u001b[49m\u001b[43m)\u001b[49m\n",
      "File \u001b[1;32m~\\.conda\\envs\\cas\\lib\\site-packages\\openai\\_base_client.py:986\u001b[0m, in \u001b[0;36mSyncAPIClient._request\u001b[1;34m(self, cast_to, options, remaining_retries, stream, stream_cls)\u001b[0m\n\u001b[0;32m    976\u001b[0m         \u001b[38;5;28;01mreturn\u001b[39;00m \u001b[38;5;28mself\u001b[39m\u001b[38;5;241m.\u001b[39m_retry_request(\n\u001b[0;32m    977\u001b[0m             options,\n\u001b[0;32m    978\u001b[0m             cast_to,\n\u001b[1;32m   (...)\u001b[0m\n\u001b[0;32m    982\u001b[0m             response_headers\u001b[38;5;241m=\u001b[39m\u001b[38;5;28;01mNone\u001b[39;00m,\n\u001b[0;32m    983\u001b[0m         )\n\u001b[0;32m    985\u001b[0m     log\u001b[38;5;241m.\u001b[39mdebug(\u001b[38;5;124m\"\u001b[39m\u001b[38;5;124mRaising connection error\u001b[39m\u001b[38;5;124m\"\u001b[39m)\n\u001b[1;32m--> 986\u001b[0m     \u001b[38;5;28;01mraise\u001b[39;00m APIConnectionError(request\u001b[38;5;241m=\u001b[39mrequest) \u001b[38;5;28;01mfrom\u001b[39;00m \u001b[38;5;21;01merr\u001b[39;00m\n\u001b[0;32m    988\u001b[0m log\u001b[38;5;241m.\u001b[39mdebug(\n\u001b[0;32m    989\u001b[0m     \u001b[38;5;124m'\u001b[39m\u001b[38;5;124mHTTP Response: \u001b[39m\u001b[38;5;132;01m%s\u001b[39;00m\u001b[38;5;124m \u001b[39m\u001b[38;5;132;01m%s\u001b[39;00m\u001b[38;5;124m \u001b[39m\u001b[38;5;124m\"\u001b[39m\u001b[38;5;132;01m%i\u001b[39;00m\u001b[38;5;124m \u001b[39m\u001b[38;5;132;01m%s\u001b[39;00m\u001b[38;5;124m\"\u001b[39m\u001b[38;5;124m \u001b[39m\u001b[38;5;132;01m%s\u001b[39;00m\u001b[38;5;124m'\u001b[39m,\n\u001b[0;32m    990\u001b[0m     request\u001b[38;5;241m.\u001b[39mmethod,\n\u001b[1;32m   (...)\u001b[0m\n\u001b[0;32m    994\u001b[0m     response\u001b[38;5;241m.\u001b[39mheaders,\n\u001b[0;32m    995\u001b[0m )\n\u001b[0;32m    996\u001b[0m log\u001b[38;5;241m.\u001b[39mdebug(\u001b[38;5;124m\"\u001b[39m\u001b[38;5;124mrequest_id: \u001b[39m\u001b[38;5;132;01m%s\u001b[39;00m\u001b[38;5;124m\"\u001b[39m, response\u001b[38;5;241m.\u001b[39mheaders\u001b[38;5;241m.\u001b[39mget(\u001b[38;5;124m\"\u001b[39m\u001b[38;5;124mx-request-id\u001b[39m\u001b[38;5;124m\"\u001b[39m))\n",
      "\u001b[1;31mAPIConnectionError\u001b[0m: Connection error."
     ]
    }
   ],
   "source": [
    "insurance_conditions = pd.read_csv(\"data/MF-AVB.csv\", sep=\"@\")\n",
    "insurance_conditions[\"embedding\"] = embedding_model.embed_documents(insurance_conditions[\"Text\"])\n",
    "insurance_conditions.head(3)"
   ]
  },
  {
   "cell_type": "markdown",
   "id": "6dc4f8a1-70c1-4ca5-a1d1-db8bb292ffbb",
   "metadata": {},
   "source": [
    "Function to do a semantic search on terms and conditions"
   ]
  },
  {
   "cell_type": "code",
   "execution_count": 29,
   "id": "76454792-d7ef-4f77-82c5-b5a193b8137c",
   "metadata": {
    "ExecuteTime": {
     "end_time": "2024-05-23T11:30:02.302389Z",
     "start_time": "2024-05-23T11:30:02.288500Z"
    }
   },
   "outputs": [],
   "source": [
    "def semantic_search(query, df, top_n=10):\n",
    "    \"\"\"Returns the top_n most relevant rows for a given query\"\"\"\n",
    "\n",
    "    # Embed query\n",
    "    query_embedding = embedding_model.embed_query(query)\n",
    "\n",
    "    # Calculate similarity between query and row embedding\n",
    "    df[\"similarity\"] = df[\"embedding\"].apply(\n",
    "        lambda x: cosine_similarity(x, query_embedding)\n",
    "    )\n",
    "\n",
    "    # Return top_n most relevant AVB passages\n",
    "    return df.sort_values(by=\"similarity\", ascending=False).iloc[:top_n][\n",
    "        [\"id\", \"Teil\", \"Titel\", \"Untertitel\", \"Text\", \"similarity\"]]"
   ]
  },
  {
   "cell_type": "markdown",
   "id": "38e3cc19-ff22-4edd-bba2-3047cdc097b5",
   "metadata": {},
   "source": [
    "Execute semantic search for different words and phrases"
   ]
  },
  {
   "cell_type": "code",
   "execution_count": 30,
   "id": "9ea81699-7440-43ca-975a-3168210f5f98",
   "metadata": {
    "ExecuteTime": {
     "end_time": "2024-05-22T15:29:53.473069Z",
     "start_time": "2024-05-22T15:29:52.743643Z"
    }
   },
   "outputs": [
    {
     "data": {
      "text/html": [
       "<div>\n",
       "<style scoped>\n",
       "    .dataframe tbody tr th:only-of-type {\n",
       "        vertical-align: middle;\n",
       "    }\n",
       "\n",
       "    .dataframe tbody tr th {\n",
       "        vertical-align: top;\n",
       "    }\n",
       "\n",
       "    .dataframe thead th {\n",
       "        text-align: right;\n",
       "    }\n",
       "</style>\n",
       "<table border=\"1\" class=\"dataframe\">\n",
       "  <thead>\n",
       "    <tr style=\"text-align: right;\">\n",
       "      <th></th>\n",
       "      <th>id</th>\n",
       "      <th>Teil</th>\n",
       "      <th>Titel</th>\n",
       "      <th>Untertitel</th>\n",
       "      <th>Text</th>\n",
       "      <th>similarity</th>\n",
       "    </tr>\n",
       "  </thead>\n",
       "  <tbody>\n",
       "    <tr>\n",
       "      <th>98</th>\n",
       "      <td>D5.1</td>\n",
       "      <td>Services und Zusatzleistungen</td>\n",
       "      <td>E-Mobilität Ladestation</td>\n",
       "      <td>Versicherte Sache</td>\n",
       "      <td>D5.1) E-Mobilität Ladestation/Versicherte Sach...</td>\n",
       "      <td>0.811702</td>\n",
       "    </tr>\n",
       "    <tr>\n",
       "      <th>102</th>\n",
       "      <td>D6.1</td>\n",
       "      <td>Services und Zusatzleistungen</td>\n",
       "      <td>E-Mobilität Batterie</td>\n",
       "      <td>Versicherte Sache</td>\n",
       "      <td>D6.1) E-Mobilität Batterie/Versicherte Sache: ...</td>\n",
       "      <td>0.805950</td>\n",
       "    </tr>\n",
       "    <tr>\n",
       "      <th>100</th>\n",
       "      <td>D5.3</td>\n",
       "      <td>Services und Zusatzleistungen</td>\n",
       "      <td>E-Mobilität Ladestation</td>\n",
       "      <td>Nicht versichert sind:</td>\n",
       "      <td>D5.3) E-Mobilität Ladestation/Nicht versichert...</td>\n",
       "      <td>0.795725</td>\n",
       "    </tr>\n",
       "    <tr>\n",
       "      <th>103</th>\n",
       "      <td>D6.2</td>\n",
       "      <td>Services und Zusatzleistungen</td>\n",
       "      <td>E-Mobilität Batterie</td>\n",
       "      <td>Versicherungsschutz</td>\n",
       "      <td>D6.2) E-Mobilität Batterie/Versicherungsschutz...</td>\n",
       "      <td>0.795004</td>\n",
       "    </tr>\n",
       "    <tr>\n",
       "      <th>99</th>\n",
       "      <td>D5.2</td>\n",
       "      <td>Services und Zusatzleistungen</td>\n",
       "      <td>E-Mobilität Ladestation</td>\n",
       "      <td>Versicherungsschutz</td>\n",
       "      <td>D5.2) E-Mobilität Ladestation/Versicherungssch...</td>\n",
       "      <td>0.794113</td>\n",
       "    </tr>\n",
       "  </tbody>\n",
       "</table>\n",
       "</div>"
      ],
      "text/plain": [
       "       id                           Teil                    Titel  \\\n",
       "98   D5.1  Services und Zusatzleistungen  E-Mobilität Ladestation   \n",
       "102  D6.1  Services und Zusatzleistungen     E-Mobilität Batterie   \n",
       "100  D5.3  Services und Zusatzleistungen  E-Mobilität Ladestation   \n",
       "103  D6.2  Services und Zusatzleistungen     E-Mobilität Batterie   \n",
       "99   D5.2  Services und Zusatzleistungen  E-Mobilität Ladestation   \n",
       "\n",
       "                 Untertitel  \\\n",
       "98        Versicherte Sache   \n",
       "102       Versicherte Sache   \n",
       "100  Nicht versichert sind:   \n",
       "103     Versicherungsschutz   \n",
       "99      Versicherungsschutz   \n",
       "\n",
       "                                                  Text  similarity  \n",
       "98   D5.1) E-Mobilität Ladestation/Versicherte Sach...    0.811702  \n",
       "102  D6.1) E-Mobilität Batterie/Versicherte Sache: ...    0.805950  \n",
       "100  D5.3) E-Mobilität Ladestation/Nicht versichert...    0.795725  \n",
       "103  D6.2) E-Mobilität Batterie/Versicherungsschutz...    0.795004  \n",
       "99   D5.2) E-Mobilität Ladestation/Versicherungssch...    0.794113  "
      ]
     },
     "execution_count": 30,
     "metadata": {},
     "output_type": "execute_result"
    }
   ],
   "source": [
    "semantic_search(\"Elektroauto\", terms_and_conditions, top_n=5)"
   ]
  },
  {
   "cell_type": "markdown",
   "id": "6eaacf03-c0d3-4548-90da-706725c0a795",
   "metadata": {},
   "source": [
    "... also works for entire phrases"
   ]
  },
  {
   "cell_type": "code",
   "execution_count": 31,
   "id": "dacd4592-bbd0-42e3-8dfd-b9c8b188821f",
   "metadata": {
    "ExecuteTime": {
     "end_time": "2024-05-22T15:29:53.889946Z",
     "start_time": "2024-05-22T15:29:53.474222Z"
    }
   },
   "outputs": [
    {
     "data": {
      "text/html": [
       "<div>\n",
       "<style scoped>\n",
       "    .dataframe tbody tr th:only-of-type {\n",
       "        vertical-align: middle;\n",
       "    }\n",
       "\n",
       "    .dataframe tbody tr th {\n",
       "        vertical-align: top;\n",
       "    }\n",
       "\n",
       "    .dataframe thead th {\n",
       "        text-align: right;\n",
       "    }\n",
       "</style>\n",
       "<table border=\"1\" class=\"dataframe\">\n",
       "  <thead>\n",
       "    <tr style=\"text-align: right;\">\n",
       "      <th></th>\n",
       "      <th>id</th>\n",
       "      <th>Teil</th>\n",
       "      <th>Titel</th>\n",
       "      <th>Untertitel</th>\n",
       "      <th>Text</th>\n",
       "      <th>similarity</th>\n",
       "    </tr>\n",
       "  </thead>\n",
       "  <tbody>\n",
       "    <tr>\n",
       "      <th>62</th>\n",
       "      <td>C2.7</td>\n",
       "      <td>Kaskoversicherung: Schäden an Ihrem Fahrzeug</td>\n",
       "      <td>Schäden durch Natur, Tiere\\nund Unbekannte (Te...</td>\n",
       "      <td>Kollision mit Tieren</td>\n",
       "      <td>C2.7) Schäden durch Natur, Tiere\\nund Unbekann...</td>\n",
       "      <td>0.808831</td>\n",
       "    </tr>\n",
       "    <tr>\n",
       "      <th>28</th>\n",
       "      <td>A12.3</td>\n",
       "      <td>Rahmenbedingungen des Versicherungsvertrags</td>\n",
       "      <td>Schadenfall</td>\n",
       "      <td>Kasko</td>\n",
       "      <td>A12.3) Schadenfall/Kasko: Die bzw. der Anspruc...</td>\n",
       "      <td>0.803845</td>\n",
       "    </tr>\n",
       "    <tr>\n",
       "      <th>59</th>\n",
       "      <td>C2.4</td>\n",
       "      <td>Kaskoversicherung: Schäden an Ihrem Fahrzeug</td>\n",
       "      <td>Schäden durch Natur, Tiere\\nund Unbekannte (Te...</td>\n",
       "      <td>Naturereignisse</td>\n",
       "      <td>C2.4) Schäden durch Natur, Tiere\\nund Unbekann...</td>\n",
       "      <td>0.800500</td>\n",
       "    </tr>\n",
       "    <tr>\n",
       "      <th>112</th>\n",
       "      <td>D8.1</td>\n",
       "      <td>Services und Zusatzleistungen</td>\n",
       "      <td>Verletzung an Ihnen und Mitfahrenden</td>\n",
       "      <td>Versicherungsschutz</td>\n",
       "      <td>D8.1) Verletzung an Ihnen und Mitfahrenden/Ver...</td>\n",
       "      <td>0.792004</td>\n",
       "    </tr>\n",
       "    <tr>\n",
       "      <th>61</th>\n",
       "      <td>C2.6</td>\n",
       "      <td>Kaskoversicherung: Schäden an Ihrem Fahrzeug</td>\n",
       "      <td>Schäden durch Natur, Tiere\\nund Unbekannte (Te...</td>\n",
       "      <td>Schäden durch Marder und Nagetiere</td>\n",
       "      <td>C2.6) Schäden durch Natur, Tiere\\nund Unbekann...</td>\n",
       "      <td>0.791725</td>\n",
       "    </tr>\n",
       "  </tbody>\n",
       "</table>\n",
       "</div>"
      ],
      "text/plain": [
       "        id                                          Teil  \\\n",
       "62    C2.7  Kaskoversicherung: Schäden an Ihrem Fahrzeug   \n",
       "28   A12.3   Rahmenbedingungen des Versicherungsvertrags   \n",
       "59    C2.4  Kaskoversicherung: Schäden an Ihrem Fahrzeug   \n",
       "112   D8.1                 Services und Zusatzleistungen   \n",
       "61    C2.6  Kaskoversicherung: Schäden an Ihrem Fahrzeug   \n",
       "\n",
       "                                                 Titel  \\\n",
       "62   Schäden durch Natur, Tiere\\nund Unbekannte (Te...   \n",
       "28                                         Schadenfall   \n",
       "59   Schäden durch Natur, Tiere\\nund Unbekannte (Te...   \n",
       "112               Verletzung an Ihnen und Mitfahrenden   \n",
       "61   Schäden durch Natur, Tiere\\nund Unbekannte (Te...   \n",
       "\n",
       "                             Untertitel  \\\n",
       "62                 Kollision mit Tieren   \n",
       "28                                Kasko   \n",
       "59                      Naturereignisse   \n",
       "112                 Versicherungsschutz   \n",
       "61   Schäden durch Marder und Nagetiere   \n",
       "\n",
       "                                                  Text  similarity  \n",
       "62   C2.7) Schäden durch Natur, Tiere\\nund Unbekann...    0.808831  \n",
       "28   A12.3) Schadenfall/Kasko: Die bzw. der Anspruc...    0.803845  \n",
       "59   C2.4) Schäden durch Natur, Tiere\\nund Unbekann...    0.800500  \n",
       "112  D8.1) Verletzung an Ihnen und Mitfahrenden/Ver...    0.792004  \n",
       "61   C2.6) Schäden durch Natur, Tiere\\nund Unbekann...    0.791725  "
      ]
     },
     "execution_count": 31,
     "metadata": {},
     "output_type": "execute_result"
    }
   ],
   "source": [
    "semantic_search(\"Ich hatte einen Zusammenstoss mit einer Wildsau\", terms_and_conditions, top_n=5)"
   ]
  },
  {
   "cell_type": "markdown",
   "id": "098b5127-0b91-4690-9f6f-93aadeb9d013",
   "metadata": {},
   "source": [
    "... also works (to some extent) when using a different language in the query"
   ]
  },
  {
   "cell_type": "code",
   "execution_count": 32,
   "id": "a85cd6e0-6864-4765-a546-8aff0582698e",
   "metadata": {},
   "outputs": [
    {
     "data": {
      "text/html": [
       "<div>\n",
       "<style scoped>\n",
       "    .dataframe tbody tr th:only-of-type {\n",
       "        vertical-align: middle;\n",
       "    }\n",
       "\n",
       "    .dataframe tbody tr th {\n",
       "        vertical-align: top;\n",
       "    }\n",
       "\n",
       "    .dataframe thead th {\n",
       "        text-align: right;\n",
       "    }\n",
       "</style>\n",
       "<table border=\"1\" class=\"dataframe\">\n",
       "  <thead>\n",
       "    <tr style=\"text-align: right;\">\n",
       "      <th></th>\n",
       "      <th>id</th>\n",
       "      <th>Teil</th>\n",
       "      <th>Titel</th>\n",
       "      <th>Untertitel</th>\n",
       "      <th>Text</th>\n",
       "      <th>similarity</th>\n",
       "    </tr>\n",
       "  </thead>\n",
       "  <tbody>\n",
       "    <tr>\n",
       "      <th>88</th>\n",
       "      <td>D1</td>\n",
       "      <td>Services und Zusatzleistungen</td>\n",
       "      <td>Grobfahrlässigkeit</td>\n",
       "      <td>NaN</td>\n",
       "      <td>D1) Grobfahrlässigkeit: Bei grobfahrlässiger V...</td>\n",
       "      <td>0.772500</td>\n",
       "    </tr>\n",
       "    <tr>\n",
       "      <th>62</th>\n",
       "      <td>C2.7</td>\n",
       "      <td>Kaskoversicherung: Schäden an Ihrem Fahrzeug</td>\n",
       "      <td>Schäden durch Natur, Tiere\\nund Unbekannte (Te...</td>\n",
       "      <td>Kollision mit Tieren</td>\n",
       "      <td>C2.7) Schäden durch Natur, Tiere\\nund Unbekann...</td>\n",
       "      <td>0.771790</td>\n",
       "    </tr>\n",
       "    <tr>\n",
       "      <th>34</th>\n",
       "      <td>A12.8</td>\n",
       "      <td>Rahmenbedingungen des Versicherungsvertrags</td>\n",
       "      <td>Schadenfall</td>\n",
       "      <td>Angetrunkener und fahrunfähiger Zustand oder k...</td>\n",
       "      <td>A12.8) Schadenfall/Angetrunkener und fahrunfäh...</td>\n",
       "      <td>0.764479</td>\n",
       "    </tr>\n",
       "    <tr>\n",
       "      <th>59</th>\n",
       "      <td>C2.4</td>\n",
       "      <td>Kaskoversicherung: Schäden an Ihrem Fahrzeug</td>\n",
       "      <td>Schäden durch Natur, Tiere\\nund Unbekannte (Te...</td>\n",
       "      <td>Naturereignisse</td>\n",
       "      <td>C2.4) Schäden durch Natur, Tiere\\nund Unbekann...</td>\n",
       "      <td>0.763711</td>\n",
       "    </tr>\n",
       "    <tr>\n",
       "      <th>58</th>\n",
       "      <td>C2.3</td>\n",
       "      <td>Kaskoversicherung: Schäden an Ihrem Fahrzeug</td>\n",
       "      <td>Schäden durch Natur, Tiere\\nund Unbekannte (Te...</td>\n",
       "      <td>Glasbruch an Front-, Heck- und Seitenscheiben</td>\n",
       "      <td>C2.3) Schäden durch Natur, Tiere\\nund Unbekann...</td>\n",
       "      <td>0.762035</td>\n",
       "    </tr>\n",
       "  </tbody>\n",
       "</table>\n",
       "</div>"
      ],
      "text/plain": [
       "       id                                          Teil  \\\n",
       "88     D1                 Services und Zusatzleistungen   \n",
       "62   C2.7  Kaskoversicherung: Schäden an Ihrem Fahrzeug   \n",
       "34  A12.8   Rahmenbedingungen des Versicherungsvertrags   \n",
       "59   C2.4  Kaskoversicherung: Schäden an Ihrem Fahrzeug   \n",
       "58   C2.3  Kaskoversicherung: Schäden an Ihrem Fahrzeug   \n",
       "\n",
       "                                                Titel  \\\n",
       "88                                 Grobfahrlässigkeit   \n",
       "62  Schäden durch Natur, Tiere\\nund Unbekannte (Te...   \n",
       "34                                        Schadenfall   \n",
       "59  Schäden durch Natur, Tiere\\nund Unbekannte (Te...   \n",
       "58  Schäden durch Natur, Tiere\\nund Unbekannte (Te...   \n",
       "\n",
       "                                           Untertitel  \\\n",
       "88                                                NaN   \n",
       "62                               Kollision mit Tieren   \n",
       "34  Angetrunkener und fahrunfähiger Zustand oder k...   \n",
       "59                                    Naturereignisse   \n",
       "58      Glasbruch an Front-, Heck- und Seitenscheiben   \n",
       "\n",
       "                                                 Text  similarity  \n",
       "88  D1) Grobfahrlässigkeit: Bei grobfahrlässiger V...    0.772500  \n",
       "62  C2.7) Schäden durch Natur, Tiere\\nund Unbekann...    0.771790  \n",
       "34  A12.8) Schadenfall/Angetrunkener und fahrunfäh...    0.764479  \n",
       "59  C2.4) Schäden durch Natur, Tiere\\nund Unbekann...    0.763711  \n",
       "58  C2.3) Schäden durch Natur, Tiere\\nund Unbekann...    0.762035  "
      ]
     },
     "execution_count": 32,
     "metadata": {},
     "output_type": "execute_result"
    }
   ],
   "source": [
    "semantic_search(\"I crashed into a deer\", terms_and_conditions, top_n=5)"
   ]
  },
  {
   "cell_type": "markdown",
   "id": "df9a50da-eead-40fe-b995-c3bcf609fded",
   "metadata": {},
   "source": [
    "### Demo 1: Simple coverage check based on policy and terms & conditions"
   ]
  },
  {
   "cell_type": "markdown",
   "id": "cce4523f-7da6-42b8-abaa-3b5b29497db2",
   "metadata": {},
   "source": [
    "Load Policy and print extract"
   ]
  },
  {
   "cell_type": "code",
   "execution_count": 13,
   "id": "66c84bbb-c7a2-468b-b044-b42020caca7f",
   "metadata": {
    "ExecuteTime": {
     "end_time": "2024-05-23T11:30:02.317828Z",
     "start_time": "2024-05-23T11:30:02.305622Z"
    }
   },
   "outputs": [
    {
     "name": "stdout",
     "output_type": "stream",
     "text": [
      "{\n",
      "    \"Offerte\": {\n",
      "        \"Police\": {\n",
      "            \"Motorfahrzeugversicherung\": \"OPTIMA\",\n",
      "            \"PoliceNr\": \"16.167.745\",\n",
      "            \"Versicherungsnehmer\": \"Max Mustermann\",\n",
      "            \"Adresse\": \"Pionierstrasse 3, 8400 Winterthur\",\n",
      "            \"Beginn\": \"11.06.2021\",\n",
      "            \"Ablauf\": \"31.12.2024\",\n",
      "            \"Zahlungsart\": \"j\\u00e4hrlich\",\n",
      "            \"Jahrespr\\u00e4mieF\\u00e4lligAm\": \"01.01.\",\n",
      "            \"Vertragsgrundlagen\": \"Allgemeinen Vertragsbedingungen (AVB) f\\u00fcr STRADA, Ausgabe 10.2013, www.axa.ch/doc/aacew\",\n",
      "            \"Pr\\u00e4mien\\u00fcbersicht\": {\n",
      "                \"Haftpflicht\": {\n",
      "                    \"Jahrespr\\u00e4mieBruttoInCHF\": 1065.3,\n",
      "                    \"Pr\\u00e4mienstufe\": 30,\n",
      "                    \"Jahrespr\\u00e4mieNettoInCHF\": 319.59,\n",
      "                    \"GesetzlicheAbgabenInCHF\": 22.58\n",
      "                },\n",
      "                \"Kasko\": {\n",
      "                    \"Kollision\": {\n",
      "                        \"Jahrespr\\u00e4mieBruttoInCHF\": 1324.3,\n",
      "                  \n",
      "...\n"
     ]
    }
   ],
   "source": [
    "with open('data/MF-Police.json', 'r') as f:\n",
    "    policy = json.load(f)\n",
    "\n",
    "print(json.dumps(policy, indent=4)[:1000] + \"\\n...\")"
   ]
  },
  {
   "cell_type": "markdown",
   "id": "23d7e3fd-a8d4-41fc-a216-5339ae442b0a",
   "metadata": {},
   "source": [
    "Implement function for coverage check\n",
    "\n",
    "1. Find passages from insurance conditions that are most relevant for the given claim\n",
    "2. Ask an LLM whether the claim is covered given the insurance conditions, the policy and the accident description\n",
    "\n",
    "**TASK**: Complete the given code by replacing the placeholder `...` with the actual code"
   ]
  },
  {
   "cell_type": "code",
   "execution_count": 6,
   "id": "0b54ecff-e080-491b-9b26-7d60e81d4d13",
   "metadata": {
    "ExecuteTime": {
     "end_time": "2024-05-23T11:30:02.333189Z",
     "start_time": "2024-05-23T11:30:02.319874Z"
    }
   },
   "outputs": [],
   "source": [
    "coverage_check_prompt = ChatPromptTemplate.from_template(\"\"\"\n",
    "    Check whether and / or to what extent the given claim as described in the damage description is covered by the insurance.\n",
    "    Policy: '''{policy} '''\n",
    "    General insurance conditions: '''{insurance_conditions} '''\n",
    "    Damage description: '''{damage_description} '''\n",
    "\"\"\")\n",
    "\n",
    "def check_coverage(damage_description, policy=policy, insurance_conditions=insurance_conditions, prompt=coverage_check_prompt, llm=gpt4):\n",
    "    \"\"\"Check if a given claim is covered by the insurance by extracting relevant insurance conditions and calling an LLM\"\"\"\n",
    "    \n",
    "    # Find relevant passages from general insurance conditions\n",
    "    relevant_conditions = ...\n",
    "    \n",
    "    relevant_conditions = \"\\n\\n\".join(relevant_conditions[\"Text\"])\n",
    "\n",
    "    # Build chain and call LLM\n",
    "    chain = prompt | llm\n",
    "    return chain.invoke({\"insurance_conditions\": relevant_conditions, \"policy\": policy, \"damage_description\": damage_description})"
   ]
  },
  {
   "cell_type": "markdown",
   "id": "9f4c44a1-0153-4ff9-99dc-bbbcf3a45212",
   "metadata": {},
   "source": [
    "#### Deckung prüfen"
   ]
  },
  {
   "cell_type": "code",
   "execution_count": 19,
   "id": "8da62113-fddf-411e-8604-e5bf014c6629",
   "metadata": {
    "ExecuteTime": {
     "end_time": "2024-05-22T15:30:03.298735Z",
     "start_time": "2024-05-22T15:29:53.954085Z"
    }
   },
   "outputs": [
    {
     "data": {
      "text/plain": [
       "'Gemäß den Vertragsbedingungen sind Schäden, die bei der Teilnahme an Rennen und ähnlichen Fahrten entstehen, nicht versichert (B6.2, C11.3). Da der Schadenhergang beim Hallauer Bergrennen auftrat, handelt es sich um eine Rennveranstaltung, und der Schaden ist daher nicht gedeckt.\\n\\nDa der Schadenhergang nicht gedeckt ist, werden die Kosten für Reparatur, Rettung, Bergung und andere Leistungen des Versicherers nicht übernommen. Es ist ratsam, sich an den Versicherer zu wenden, um weitere Details und Informationen zu erhalten.'"
      ]
     },
     "execution_count": 19,
     "metadata": {},
     "output_type": "execute_result"
    }
   ],
   "source": [
    "check_coverage(\"I had an accident at the Hallauer Bergrennen\").content"
   ]
  },
  {
   "cell_type": "code",
   "execution_count": 20,
   "id": "940ec6ea-8b74-48c4-9b3b-aeeff1ac2a6f",
   "metadata": {
    "ExecuteTime": {
     "end_time": "2024-05-22T15:30:10.432477Z",
     "start_time": "2024-05-22T15:30:03.301735Z"
    }
   },
   "outputs": [
    {
     "data": {
      "text/plain": [
       "'Gemäß den Vertragsbedingungen ist der beschriebene Schadenhergang gedeckt. Der Schaden wird gemäß den Bedingungen der Teilkasko-Versicherung als Schaden durch Zusammenstoß mit Tieren behandelt. Die Versicherung übernimmt die Kosten für die Reparatur des Fahrzeugs. Es ist jedoch erforderlich, dass der Anspruchsberechtigte der Versicherung ermöglicht, das beschädigte Fahrzeug vor der Reparatur zu besichtigen.'"
      ]
     },
     "execution_count": 20,
     "metadata": {},
     "output_type": "execute_result"
    }
   ],
   "source": [
    "check_coverage(\n",
    "    \"I was driving on the N1 from Winterthur to St. Gallen when a deer was crossing the street all of a sudden. \"\n",
    "    \"I couldn't stop in time and crashed into the deer.\"\n",
    ").content"
   ]
  },
  {
   "cell_type": "code",
   "execution_count": 21,
   "id": "1242e2dc-68d3-47d5-a5f2-2d5bed8a3e82",
   "metadata": {
    "ExecuteTime": {
     "end_time": "2024-05-22T15:30:27.708454Z",
     "start_time": "2024-05-22T15:30:10.433979Z"
    }
   },
   "outputs": [
    {
     "data": {
      "text/plain": [
       "'Gemäß den Vertragsbedingungen ist der beschriebene Schadenhergang durch die Kaskoversicherung abgedeckt. Da es sich um einen Schaden handelt, der durch ein anderes Fahrzeug verursacht wurde, wird er unter der Kategorie \"Schäden am parkierten Fahrzeug\" behandelt. Die genauen Leistungen sind in der Police aufgeführt. Es ist jedoch zu beachten, dass die Anzahl versicherter Schadenfälle in der Police pro Versicherungsjahr begrenzt sein kann. In diesem Fall gilt die Begrenzung unabhängig von einem Fahrzeugwechsel und den Monaten, in denen der Vertrag im Kalenderjahr in Kraft war. Es ist ratsam, den Schaden unverzüglich der Versicherung zu melden und ihre Einwilligung für Reparaturen einzuholen, um sicherzustellen, dass der Schaden gedeckt ist.'"
      ]
     },
     "execution_count": 21,
     "metadata": {},
     "output_type": "execute_result"
    }
   ],
   "source": [
    "check_coverage(\n",
    "    \"I parked my car at the Migros in Rosenberg. When coming back to the car, \"\n",
    "    \"I noticed a dent that obviously had been caused by another car while I was gone.\"\n",
    ").content"
   ]
  },
  {
   "cell_type": "markdown",
   "id": "e862c9e1-a520-4296-83ac-3047fa031112",
   "metadata": {},
   "source": [
    "**TASK**: Come up with other damage / accident descriptions and check whether they are covered. Adapt the `coverage_check_prompt` to see how it influences the output."
   ]
  },
  {
   "cell_type": "markdown",
   "id": "9b47f6a5-8887-4bfe-a77e-0a35edb3fa0d",
   "metadata": {},
   "source": [
    "### Demo 2: Agentic Workflows & ReAct"
   ]
  },
  {
   "cell_type": "markdown",
   "id": "d08b2516-4b39-4c3d-9acd-7a03b51885d8",
   "metadata": {},
   "source": [
    "While the simple approach from above might work in simple cases, it has various limitations:\n",
    "* The semantic search is always executed with the query given by the user. Sometimes this might not find all relevant passages (e.g. for long queries).\n",
    "* The LLM has no information about current information such as the date\n",
    "* LLMs are notoriously bad at maths (although they might think otherwise)\n",
    "\n",
    "One solution is to give the LLM access to external tools such as a calculator and have it decide itself when to use them."
   ]
  },
  {
   "cell_type": "markdown",
   "id": "5fd44b04-8dcf-45c3-a2ce-a4512680fd78",
   "metadata": {},
   "source": [
    "A way to implement this is with **ReAct**. In this approach, the LLM is prompted to think at each step what it needs to do in order to solve a given query. It then can either decide that it has all required information to answer the query or that it has to use another tool at its disposal in order to get additional information:\n",
    "<img src=\"data/react.png\" alt=\"image\" width=\"800\" height=\"auto\">"
   ]
  },
  {
   "cell_type": "markdown",
   "id": "26a02a55-bf30-4e7e-9f83-036abfd4bc29",
   "metadata": {},
   "source": [
    "Import required dependencies"
   ]
  },
  {
   "cell_type": "code",
   "execution_count": 7,
   "id": "1ade82aa3a449845",
   "metadata": {
    "ExecuteTime": {
     "end_time": "2024-05-23T11:30:04.232954Z",
     "start_time": "2024-05-23T11:30:03.985120Z"
    }
   },
   "outputs": [],
   "source": [
    "from datetime import date\n",
    "\n",
    "from langchain.tools import tool\n",
    "from langchain.agents import AgentExecutor, create_react_agent\n",
    "\n",
    "from src.utils import Calculator"
   ]
  },
  {
   "cell_type": "markdown",
   "id": "65af0650-04e8-42e4-b998-eec9f96c77c6",
   "metadata": {},
   "source": [
    "Define the available tools as python functions. The docstrings are made available to the LLM and should therefore be as descriptive as possible."
   ]
  },
  {
   "cell_type": "code",
   "execution_count": 16,
   "id": "b9ff042f82b3166b",
   "metadata": {
    "ExecuteTime": {
     "end_time": "2024-05-23T11:32:11.076538Z",
     "start_time": "2024-05-23T11:32:11.053176Z"
    }
   },
   "outputs": [],
   "source": [
    "@tool\n",
    "def get_current_date() -> str:\n",
    "    \"\"\"\n",
    "    Get the current date. Always use this tool when dates are relevant to answer the query.\n",
    "    \"\"\"\n",
    "    return date.today().strftime(\"%Y-%m-%d\")\n",
    "\n",
    "\n",
    "@tool\n",
    "def get_relevant_terms_and_conditions(query: str) -> str:\n",
    "    \"\"\"\n",
    "    Get the relevant terms and conditions for a given query by doing a semantic search.\n",
    "    Use this tool multiple times with different queries if you are missing relevant information.\n",
    "    \"\"\"\n",
    "    return semantic_search(query, insurance_conditions)[\"Text\"]\n",
    "\n",
    "\n",
    "@tool\n",
    "def make_calculation(expression: str) -> str:\n",
    "    \"\"\"\n",
    "    Make a calculation by solving the given mathematical expression.\n",
    "    Always use this tool when making calculations. Don't try to make calculations without it.\n",
    "    \"\"\"\n",
    "    # Make sure the expression is well formatted\n",
    "    expression = expression.replace(\"'\", \"\").replace('\"', '').strip()\n",
    "    \n",
    "    calc = Calculator()\n",
    "    return calc.eval_expr(expression)\n",
    "\n",
    "\n",
    "@tool\n",
    "def get_current_car_value(model: str) -> int:\n",
    "    \"\"\"Get the value of the specified car model in CHF\"\"\"\n",
    "    return 40000  # Dummy value"
   ]
  },
  {
   "cell_type": "markdown",
   "id": "84478cbc-babe-4553-b83a-01862f8592be",
   "metadata": {},
   "source": [
    "Define the *ReAct* Prompt. This is just a template and can be adapted if needed."
   ]
  },
  {
   "cell_type": "code",
   "execution_count": 18,
   "id": "5360f3907bfa9074",
   "metadata": {
    "ExecuteTime": {
     "end_time": "2024-05-23T11:32:12.333779Z",
     "start_time": "2024-05-23T11:32:12.317562Z"
    }
   },
   "outputs": [],
   "source": [
    "react_prompt = ChatPromptTemplate.from_template(\"\"\"\n",
    "Answer the following questions as best you can. You have access to the following tools:\n",
    "\n",
    "{tools}\n",
    "    \n",
    "Use the following format:\n",
    "\n",
    "Question: the input question you must answer\n",
    "\n",
    "Thought: you should always think about what to do\n",
    "\n",
    "Action: the action to take, should be one of [{tool_names}]\n",
    "\n",
    "Action Input: the input to the action\n",
    "\n",
    "Observation: the result of the action\n",
    "\n",
    "... (this Thought/Action/Action Input/Observation can repeat N times)\n",
    "\n",
    "Thought: I now know the final answer\n",
    "\n",
    "Final Answer: the final answer to the original input question in the language of the question\n",
    "\n",
    "Begin!\n",
    "\n",
    "Question: Check whether and / or to what extent the given claim as described in the damage description is covered by the insurance. Policy: '''{policy} ''' Damage description: '''{damage_description} '''\n",
    "\n",
    "Thought:{agent_scratchpad}\n",
    "\"\"\")"
   ]
  },
  {
   "cell_type": "markdown",
   "id": "2953bac2-c40a-4154-bcb2-8dbbcaaa5011",
   "metadata": {},
   "source": [
    "Initialize the ReAct agent"
   ]
  },
  {
   "cell_type": "code",
   "execution_count": 19,
   "id": "9b2e60c5a2dd5b5b",
   "metadata": {
    "ExecuteTime": {
     "end_time": "2024-05-23T11:32:12.533457Z",
     "start_time": "2024-05-23T11:32:12.521996Z"
    }
   },
   "outputs": [],
   "source": [
    "tools = [get_current_date, get_relevant_terms_and_conditions, make_calculation, get_current_car_value]\n",
    "\n",
    "agent = create_react_agent(gpt4, tools, prompt)\n",
    "agent_executor = AgentExecutor(agent=agent, tools=tools, verbose=True)"
   ]
  },
  {
   "cell_type": "code",
   "execution_count": null,
   "id": "464122b8-46c5-49f0-ba15-3f663bd87b7c",
   "metadata": {},
   "outputs": [],
   "source": [
    "def react_coverage_check(damage_description):\n",
    "    return agent_executor.invoke({\"policy\": policy, \"damage_description\": damage_description})"
   ]
  },
  {
   "cell_type": "markdown",
   "id": "65b6061b-7eda-44c4-9097-6feaf50c079e",
   "metadata": {},
   "source": [
    "Now we are going to execute the coverage check with *ReAct*. Whether the given damage is considered a total loss, i.e. whether the covers the replacement of the car or only the repair, depends on several aspects:\n",
    "* How old is the car?\n",
    "* What would repairing the car cost in comparison to the value of the car?\n",
    "* Does the policy include a \"purchase price guarantee\".\n",
    "\n",
    "See section C10.2 in the [insurance conditions](data/MF-GIC.pdf) for more details."
   ]
  },
  {
   "cell_type": "code",
   "execution_count": 20,
   "id": "a4647b6196d915dc",
   "metadata": {
    "ExecuteTime": {
     "end_time": "2024-05-23T11:32:13.260783Z",
     "start_time": "2024-05-23T11:32:13.246552Z"
    }
   },
   "outputs": [],
   "source": [
    "react_coverage_check(\n",
    "    \"I crashed into a tree with my Tesla last week while driving to work. The repair cost estimate is 25000 CHF. \"\n",
    "    \"Is this considered a total loss? In other words, will my insurance cover the costs to replace the car or only pay for the repair?\"\n",
    ")"
   ]
  },
  {
   "cell_type": "markdown",
   "id": "e18ca7fa-188c-42ed-8dbc-bfd8d841aabd",
   "metadata": {},
   "source": [
    "**TASKs**: \n",
    "* Execute the same coverage check multiple times to see what happens\n",
    "* Adapt the prompt to see if you can find a way to make the agent reason in a correct way.\n",
    "* Come up with additional claims to see how it changes the behaviour of the agent\n",
    "* Change the LLM from `gpt4` to `gpt35` to see how it influences the behaviour"
   ]
  },
  {
   "cell_type": "code",
   "execution_count": null,
   "id": "2d647f98-08a4-4784-9675-f32a3c910d6d",
   "metadata": {},
   "outputs": [],
   "source": []
  }
 ],
 "metadata": {
  "colab": {
   "provenance": []
  },
  "kernelspec": {
   "display_name": "Python 3 (ipykernel)",
   "language": "python",
   "name": "python3"
  },
  "language_info": {
   "codemirror_mode": {
    "name": "ipython",
    "version": 3
   },
   "file_extension": ".py",
   "mimetype": "text/x-python",
   "name": "python",
   "nbconvert_exporter": "python",
   "pygments_lexer": "ipython3",
   "version": "3.10.14"
  }
 },
 "nbformat": 4,
 "nbformat_minor": 5
}
