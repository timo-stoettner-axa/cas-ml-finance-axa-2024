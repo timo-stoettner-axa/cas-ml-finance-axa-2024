{
 "cells": [
  {
   "cell_type": "markdown",
   "id": "64c272eb-b3f0-4be4-aa3a-49bf0c57113e",
   "metadata": {},
   "source": [
    "### Intialisierung"
   ]
  },
  {
   "cell_type": "code",
   "execution_count": 1,
   "id": "0df150fa-019d-42a0-a157-a2b4934cfddd",
   "metadata": {
    "id": "l1wfJRAIwRNp"
   },
   "outputs": [
    {
     "data": {
      "text/html": [
       "<style>table {align:left;display:block} </style>"
      ],
      "text/plain": [
       "<IPython.core.display.HTML object>"
      ]
     },
     "execution_count": 1,
     "metadata": {},
     "output_type": "execute_result"
    }
   ],
   "source": [
    "#Load needed modules\n",
    "import os\n",
    "\n",
    "from genai_core_azure_openai_session import AzureOpenAISession\n",
    "from langchain.llms.openai import AzureOpenAI\n",
    "from langchain.chat_models import AzureChatOpenAI\n",
    "from langchain.embeddings import OpenAIEmbeddings\n",
    "\n",
    "import sklearn.metrics.pairwise \n",
    "from langchain.document_loaders.pdf import PDFMinerLoader\n",
    "\n",
    "import pandas as pd\n",
    "import numpy as np\n",
    "\n",
    "import json\n",
    "\n",
    "from textwrap import wrap\n",
    "\n",
    "import urllib3\n",
    "urllib3.disable_warnings()\n",
    "\n",
    "from IPython.core.display import HTML\n",
    "table_css = 'table {align:left;display:block} '\n",
    "HTML('<style>{}</style>'.format(table_css))"
   ]
  },
  {
   "cell_type": "code",
   "execution_count": 27,
   "id": "9be9510f-dcc9-46f0-986e-bf17237a2a74",
   "metadata": {},
   "outputs": [
    {
     "name": "stdout",
     "output_type": "stream",
     "text": [
      "api base: https://cr-svc-llm-gateway-abalbk37qa-oa.a.run.app/azure-openai\n",
      "proxy: \n"
     ]
    }
   ],
   "source": [
    "# Initialize Azure Open AI Session\n",
    "\n",
    "AzureOpenAISession.class_init(llm_gw_api_key=os.environ.get(\"LLM_GW_API_KEY\"))\n",
    "\n",
    "gpt4 = AzureChatOpenAI(\n",
    "    openai_api_key=AzureOpenAISession._azure_open_ai_api_key,\n",
    "    openai_organization=AzureOpenAISession._azure_open_ai_org,\n",
    "    openai_api_base=AzureOpenAISession._api_base,\n",
    "    openai_proxy=AzureOpenAISession._proxy,\n",
    "    openai_api_version=\"2023-05-15\",\n",
    "    openai_api_type=\"azure\",\n",
    "    deployment_name=\"gpt-4\", #\"gpt-35-turbo-16k\",\n",
    "    model=\"gpt-4\",#\"gpt-35-turbo-16k\",\n",
    "#    model_version=\"vision-preview\",\n",
    "    temperature=0)\n",
    "\n",
    "openAI_embedding_engine = OpenAIEmbeddings(\n",
    "    openai_api_key=AzureOpenAISession._azure_open_ai_api_key,\n",
    "    openai_organization=AzureOpenAISession._azure_open_ai_org,\n",
    "    openai_api_base=AzureOpenAISession._api_base,\n",
    "    openai_proxy=AzureOpenAISession._proxy,\n",
    "    openai_api_version=\"2023-05-15\",\n",
    "    openai_api_type=\"azure\",\n",
    "    model=\"text-embedding-ada-002\")"
   ]
  },
  {
   "cell_type": "code",
   "execution_count": 4,
   "id": "c293ae03-6d32-4553-a285-bb378d8df39e",
   "metadata": {},
   "outputs": [],
   "source": [
    "#Some helper functions\n",
    "def get_embedding(obj, engine):\n",
    "    if type(obj) is list:\n",
    "        return engine.embed_documents(obj)\n",
    "    else: \n",
    "        return engine.embed_documents([obj])[0]\n",
    "\n",
    "def cosine_similarity(a, b):\n",
    "    return sklearn.metrics.pairwise.cosine_similarity([a], [b])[0][0]\n",
    "\n",
    "def pretty_print(str):\n",
    "    [print(\"\\n\".join(wrap(each, width=120))) for each in str.splitlines()]"
   ]
  },
  {
   "cell_type": "markdown",
   "id": "zmKa-pPQOZ9C",
   "metadata": {
    "id": "zmKa-pPQOZ9C"
   },
   "source": [
    "# **LLM Joyride durch die Versicherungswelt**"
   ]
  },
  {
   "cell_type": "markdown",
   "id": "ayDEMllZEvQd",
   "metadata": {
    "id": "ayDEMllZEvQd"
   },
   "source": [
    "## **Open the Hood - Semantic Search**"
   ]
  },
  {
   "cell_type": "markdown",
   "id": "fd632359-dee5-4336-958c-d9686c79ee13",
   "metadata": {},
   "source": [
    "<img src=\"data/open-the-hood-wide.jpg\" alt=\"image\" width=\"800\" height=\"auto\">"
   ]
  },
  {
   "cell_type": "markdown",
   "id": "3bdc69d4-5ac6-4fac-947f-fe46cd12ea65",
   "metadata": {},
   "source": [
    "### **Wieso ist semantische Suche für Gen AI Lösungen relevant?**"
   ]
  },
  {
   "cell_type": "markdown",
   "id": "b3e255f7-03a5-4bb0-9ee5-8f558e52ddb5",
   "metadata": {},
   "source": [
    "Um sicherzustellen, dass ein großes Sprachmodell nicht in Halluzinationen gerät, empfiehlt es sich, alle erforderlichen Fakten in der Anfrage bereitzustellen. Wenn beispielsweise eine Anfrage zu einem AXA-Versicherungsprodukt gestellt wird, sollten relevante Produktinformationen wie AVBs der Anfrage beigelegt werden.\n",
    "\n",
    "Der Ansatz, relevante Fakten mittels semantischer Suche zu ermitteln und in die Generierung von Antworten einzubeziehen, wird als [Retrieval Augmented Generation (RAG)](https://docs.aws.amazon.com/sagemaker/latest/dg/jumpstart-foundation-models-customize-rag.html) \n",
    "\n",
    "\n",
    "<img src=\"data/rag.jpg\" alt=\"image\" width=\"600\" height=\"auto\">"
   ]
  },
  {
   "cell_type": "markdown",
   "id": "b1faf165-00da-41b1-a5b4-9aa83d65bf2a",
   "metadata": {},
   "source": [
    "### **Was ist semantische Suche**?"
   ]
  },
  {
   "cell_type": "markdown",
   "id": "79e7eed3-40db-4170-8f65-f7d67c630c33",
   "metadata": {},
   "source": [
    "Ein konkretes Beispiel aus dem Versicherungsbereich: Angenommen, ich möchte herausfinden, welche Klauseln in den \"Allgemeinen Vertragsbedingungen MF\" sich auf Elektroauto-Batterien beziehen. Bei der Suche innerhalb der AVBs ist eine herkömmliche Textsuche wenig effektiv: Soll ich nach \"Akku\" oder nach \"Batterie\" suchen?\n",
    "\n",
    "Die Darstellung von Wörtern als Zeichenkette ermöglicht keinen direkten Vergleich zwischen den Bedeutungen verschiedener Wörter.\n",
    "Suchbegriff|Begriff in AVB|Vergleich Zeichen für Zeichen\n",
    "---|---|:---:\n",
    "Batterie|Batterie| <font color=\"green\"> ✔ </font>\n",
    "Akku|Batterie|❌\n",
    "Baterie|Batterie|❌\n",
    "Auto|Batterie|❌\n",
    "\n",
    "Semantische Suche erlaubt es, nach der **Bedeutung** eines Worts zu suchen:\n",
    "Suchbegriff|Begriff in AVB|Semantischer Vergleich\n",
    "---|---|:---:\n",
    "Batterie|Batterie|<font size=\"3\"> ⬤ </font>\n",
    "Akku|Batterie | <font size=\"4\"> ◕ </font>\n",
    "Baterie|Batterie | <font size=\"4\"> ◕ </font>\n",
    "Auto | Batterie | <font size=\"4\"> ◔ </font>\n",
    "\n",
    "\n",
    "Ein Platzhalter für die Bedeutung eines Wortes (oder eines ganzen Satzes) sind sogenannte \"Embeddings\". \n",
    "Large Language Modelle wie Chat GPT stellen (quasi als Nebenprodukt) eine Abbildung von Wörtern als Embeddings zur Verfügung."
   ]
  },
  {
   "cell_type": "markdown",
   "id": "MGsaTN29c9cl",
   "metadata": {
    "id": "MGsaTN29c9cl"
   },
   "source": [
    "### **Was sind Embeddings?**\n"
   ]
  },
  {
   "cell_type": "markdown",
   "id": "YfCBOk9gZUhP",
   "metadata": {
    "id": "YfCBOk9gZUhP"
   },
   "source": [
    "\n",
    "* Ein Embedding ist ein Repräsentant für die Bedeutung eines Worts (oder eines ganzes Satzes)\n",
    "* Ein Embedding ist ein n-dimensionaler Vektor (n>>3)\n",
    "* Embeddings lassen sich vergleichen (was dem Vergleich der Bedeutung des Wortes (resp. Satzes) entspricht 😎)\n",
    "* Tomas Mikolov, Google, 2013: Skip Gram Model / Word2Vec"
   ]
  },
  {
   "cell_type": "markdown",
   "id": "rtjYLy4kdMsE",
   "metadata": {
    "id": "rtjYLy4kdMsE"
   },
   "source": [
    "### **Was sind die Eigenschaften von Embeddings**\n"
   ]
  },
  {
   "cell_type": "markdown",
   "id": "ON06-8tIZX-_",
   "metadata": {
    "id": "ON06-8tIZX-_"
   },
   "source": [
    "* Wörter mit ähnlicher Bedeutung (wie \"Batterie\" und \"Akku\") haben ähnliche Embeddings (resp. Embedding-Vektoren)\n",
    "* D.h. die Embedding-Vektoren von Worten mit ähnlicher Bedeutung weisen in die selbe Richtung\n",
    "* Cosine Similarity ... ist das meist verwendete Mass für die Aehnlichkeit zweier Embeddings. Es misst den Winkel zwischen den Embedding-Vektoren (genauer der Cosinus des Winkels).\n",
    "* Cosine Similarity lässt sich sehr effizient berechnen:\n",
    "$cos \\varphi = {{\\vec a \\cdot \\vec b} \\over {|\\vec a| \\cdot |\\vec b|}}$"
   ]
  },
  {
   "attachments": {},
   "cell_type": "markdown",
   "id": "283adf9b-05be-4985-b253-a31c8fc3e99f",
   "metadata": {},
   "source": [
    "<img src=\"data/cosine-similarity.jpg\" alt=\"image\" width=\"400\" height=\"auto\">"
   ]
  },
  {
   "cell_type": "markdown",
   "id": "8d5267d6-7998-4d63-a6d5-cf8658c3be1a",
   "metadata": {
    "jp-MarkdownHeadingCollapsed": true
   },
   "source": [
    "#### Beispiel:"
   ]
  },
  {
   "cell_type": "markdown",
   "id": "e5837a9e-94e0-4f58-8cab-0979270b088c",
   "metadata": {
    "jp-MarkdownHeadingCollapsed": true
   },
   "source": [
    "##### Embedding-Vektoren für \"Batterie\", \"Akku\" und \"Auto\" vom OpenAI-Modell holen"
   ]
  },
  {
   "cell_type": "code",
   "execution_count": null,
   "id": "eb05e651-ba66-42e6-8fa0-77032200275e",
   "metadata": {},
   "outputs": [],
   "source": [
    "batterie = get_embedding(\"Ich fahre einen Tesla\", engine=openAI_embedding_engine)\n",
    "akku = get_embedding(\"Akku\", engine=openAI_embedding_engine)\n",
    "auto = get_embedding(\"Auto\", engine=openAI_embedding_engine)"
   ]
  },
  {
   "cell_type": "code",
   "execution_count": null,
   "id": "fe003cb9-7920-42fa-83c1-d482c8b09375",
   "metadata": {},
   "outputs": [],
   "source": [
    "np.linalg.norm(batterie)"
   ]
  },
  {
   "cell_type": "markdown",
   "id": "ee57b460-d97e-436b-8bf8-43d95bedd12a",
   "metadata": {
    "jp-MarkdownHeadingCollapsed": true
   },
   "source": [
    "##### Aehnlichkeit der Worte vergleichen"
   ]
  },
  {
   "cell_type": "code",
   "execution_count": null,
   "id": "5ce539de-8d6d-4ff5-99d1-b39ba7d83362",
   "metadata": {},
   "outputs": [],
   "source": [
    "cosine_similarity(batterie, akku)"
   ]
  },
  {
   "cell_type": "code",
   "execution_count": null,
   "id": "d12d97ce-5833-4f2c-9cf2-11fc0571b1a3",
   "metadata": {},
   "outputs": [],
   "source": [
    "cosine_similarity(batterie, auto)"
   ]
  },
  {
   "cell_type": "markdown",
   "id": "8khnN4kufYY8",
   "metadata": {
    "id": "8khnN4kufYY8"
   },
   "source": [
    "## **Cruising on AXA's freeway**"
   ]
  },
  {
   "cell_type": "markdown",
   "id": "b4dd6d6d-982f-497a-91cc-d1e512cd4cfd",
   "metadata": {},
   "source": [
    "<img src=\"data/mustang-cruising-wide.jpg\" alt=\"image\" width=\"800\" height=\"auto\">"
   ]
  },
  {
   "cell_type": "markdown",
   "id": "sH-LAaMHZvSs",
   "metadata": {
    "id": "sH-LAaMHZvSs"
   },
   "source": [
    "Unsere \"Ausstattung\" für die Ausfahrt:\n",
    "* GenAI Core Framework (inkl. GPT 4)\n",
    "* [Allg. Vertragsbedingungen MF](data/MF-AVB.pdf)\n",
    "* [MF-Police von G. Dolge](data/MF-Police.pdf)\n",
    "* [Offerte von Smile für G. Dolge](data/MF-Offerte-Smile.pdf)\n"
   ]
  },
  {
   "cell_type": "markdown",
   "id": "8b7f3fc7-a877-44f1-9a44-9904d6eab373",
   "metadata": {},
   "source": [
    "### Demo 1: Suche relevante AVB-Passagen"
   ]
  },
  {
   "cell_type": "markdown",
   "id": "dc9878b1-efa0-4b5a-8ed3-f7840885e57a",
   "metadata": {},
   "source": [
    "#### Embeddings für AVBs aufbauen"
   ]
  },
  {
   "cell_type": "code",
   "execution_count": 5,
   "id": "aea622ac-c9e6-4355-b0e5-181e0509a136",
   "metadata": {},
   "outputs": [],
   "source": [
    "# AVBs laden und Embedding-Vektoren erstellen\n",
    "AVBs = pd.read_csv(\"data/MF-AVB.csv\", sep=\"@\")\n",
    "AVBs[\"embedding\"] = get_embedding(AVBs[\"Text\"].tolist(), openAI_embedding_engine)"
   ]
  },
  {
   "cell_type": "markdown",
   "id": "6dc4f8a1-70c1-4ca5-a1d1-db8bb292ffbb",
   "metadata": {},
   "source": [
    "#### Funktion für semantische Suche auf AVBs"
   ]
  },
  {
   "cell_type": "code",
   "execution_count": 6,
   "id": "76454792-d7ef-4f77-82c5-b5a193b8137c",
   "metadata": {},
   "outputs": [],
   "source": [
    "#1. Berechne Embedding vom Suchtext\n",
    "#2. Berechne Similarität zwischen AVB-Klauseln und Suchtext\n",
    "#2. Gib die AVB-Klauseln mit höchster \"Similarität\" zurück\n",
    "\n",
    "def suche_relevante_AVBs(such_text, AVBs, max_avbs=10):\n",
    "    such_text_embedding = get_embedding(such_text, engine=openAI_embedding_engine)\n",
    "    AVBs[\"similarity\"] = AVBs[\"embedding\"].apply(lambda avb_embedding: cosine_similarity(avb_embedding, such_text_embedding))\n",
    "    return AVBs.sort_values(by=\"similarity\", ascending=False)[:max_avbs]"
   ]
  },
  {
   "cell_type": "markdown",
   "id": "38e3cc19-ff22-4edd-bba2-3047cdc097b5",
   "metadata": {},
   "source": [
    "#### In AVBs nach \"Elektroauto\" suchen und relevanteste AVB-Passagen anzeigen"
   ]
  },
  {
   "cell_type": "code",
   "execution_count": 7,
   "id": "9ea81699-7440-43ca-975a-3168210f5f98",
   "metadata": {},
   "outputs": [
    {
     "data": {
      "text/html": [
       "<div>\n",
       "<style scoped>\n",
       "    .dataframe tbody tr th:only-of-type {\n",
       "        vertical-align: middle;\n",
       "    }\n",
       "\n",
       "    .dataframe tbody tr th {\n",
       "        vertical-align: top;\n",
       "    }\n",
       "\n",
       "    .dataframe thead th {\n",
       "        text-align: right;\n",
       "    }\n",
       "</style>\n",
       "<table border=\"1\" class=\"dataframe\">\n",
       "  <thead>\n",
       "    <tr style=\"text-align: right;\">\n",
       "      <th></th>\n",
       "      <th>id</th>\n",
       "      <th>Teil</th>\n",
       "      <th>Titel</th>\n",
       "      <th>Untertitel</th>\n",
       "      <th>similarity</th>\n",
       "    </tr>\n",
       "  </thead>\n",
       "  <tbody>\n",
       "    <tr>\n",
       "      <th>98</th>\n",
       "      <td>D5.1</td>\n",
       "      <td>Services und Zusatzleistungen</td>\n",
       "      <td>E-Mobilität Ladestation</td>\n",
       "      <td>Versicherte Sache</td>\n",
       "      <td>0.811702</td>\n",
       "    </tr>\n",
       "    <tr>\n",
       "      <th>102</th>\n",
       "      <td>D6.1</td>\n",
       "      <td>Services und Zusatzleistungen</td>\n",
       "      <td>E-Mobilität Batterie</td>\n",
       "      <td>Versicherte Sache</td>\n",
       "      <td>0.805950</td>\n",
       "    </tr>\n",
       "    <tr>\n",
       "      <th>100</th>\n",
       "      <td>D5.3</td>\n",
       "      <td>Services und Zusatzleistungen</td>\n",
       "      <td>E-Mobilität Ladestation</td>\n",
       "      <td>Nicht versichert sind:</td>\n",
       "      <td>0.795725</td>\n",
       "    </tr>\n",
       "    <tr>\n",
       "      <th>103</th>\n",
       "      <td>D6.2</td>\n",
       "      <td>Services und Zusatzleistungen</td>\n",
       "      <td>E-Mobilität Batterie</td>\n",
       "      <td>Versicherungsschutz</td>\n",
       "      <td>0.795004</td>\n",
       "    </tr>\n",
       "    <tr>\n",
       "      <th>99</th>\n",
       "      <td>D5.2</td>\n",
       "      <td>Services und Zusatzleistungen</td>\n",
       "      <td>E-Mobilität Ladestation</td>\n",
       "      <td>Versicherungsschutz</td>\n",
       "      <td>0.794113</td>\n",
       "    </tr>\n",
       "    <tr>\n",
       "      <th>30</th>\n",
       "      <td>A12.5</td>\n",
       "      <td>Rahmenbedingungen des Versicherungsvertrags</td>\n",
       "      <td>Schadenfall</td>\n",
       "      <td>E-Mobilität Ladestation / E-Mobilität Batterie</td>\n",
       "      <td>0.792154</td>\n",
       "    </tr>\n",
       "    <tr>\n",
       "      <th>101</th>\n",
       "      <td>D5.4</td>\n",
       "      <td>Services und Zusatzleistungen</td>\n",
       "      <td>E-Mobilität Ladestation</td>\n",
       "      <td>Leistungen im Schadenfall</td>\n",
       "      <td>0.790991</td>\n",
       "    </tr>\n",
       "    <tr>\n",
       "      <th>104</th>\n",
       "      <td>D6.3</td>\n",
       "      <td>Services und Zusatzleistungen</td>\n",
       "      <td>E-Mobilität Batterie</td>\n",
       "      <td>Leistung im Schadenfall</td>\n",
       "      <td>0.785303</td>\n",
       "    </tr>\n",
       "    <tr>\n",
       "      <th>73</th>\n",
       "      <td>C9.4</td>\n",
       "      <td>Kaskoversicherung: Schäden an Ihrem Fahrzeug</td>\n",
       "      <td>Versichertes Fahrzeug und Zubehör</td>\n",
       "      <td>NaN</td>\n",
       "      <td>0.784164</td>\n",
       "    </tr>\n",
       "    <tr>\n",
       "      <th>105</th>\n",
       "      <td>D6.4</td>\n",
       "      <td>Services und Zusatzleistungen</td>\n",
       "      <td>E-Mobilität Batterie</td>\n",
       "      <td>Besondere Leistungen</td>\n",
       "      <td>0.783118</td>\n",
       "    </tr>\n",
       "  </tbody>\n",
       "</table>\n",
       "</div>"
      ],
      "text/plain": [
       "        id                                          Teil  \\\n",
       "98    D5.1                 Services und Zusatzleistungen   \n",
       "102   D6.1                 Services und Zusatzleistungen   \n",
       "100   D5.3                 Services und Zusatzleistungen   \n",
       "103   D6.2                 Services und Zusatzleistungen   \n",
       "99    D5.2                 Services und Zusatzleistungen   \n",
       "30   A12.5   Rahmenbedingungen des Versicherungsvertrags   \n",
       "101   D5.4                 Services und Zusatzleistungen   \n",
       "104   D6.3                 Services und Zusatzleistungen   \n",
       "73    C9.4  Kaskoversicherung: Schäden an Ihrem Fahrzeug   \n",
       "105   D6.4                 Services und Zusatzleistungen   \n",
       "\n",
       "                                 Titel  \\\n",
       "98             E-Mobilität Ladestation   \n",
       "102               E-Mobilität Batterie   \n",
       "100            E-Mobilität Ladestation   \n",
       "103               E-Mobilität Batterie   \n",
       "99             E-Mobilität Ladestation   \n",
       "30                         Schadenfall   \n",
       "101            E-Mobilität Ladestation   \n",
       "104               E-Mobilität Batterie   \n",
       "73   Versichertes Fahrzeug und Zubehör   \n",
       "105               E-Mobilität Batterie   \n",
       "\n",
       "                                         Untertitel  similarity  \n",
       "98                                Versicherte Sache    0.811702  \n",
       "102                               Versicherte Sache    0.805950  \n",
       "100                          Nicht versichert sind:    0.795725  \n",
       "103                             Versicherungsschutz    0.795004  \n",
       "99                              Versicherungsschutz    0.794113  \n",
       "30   E-Mobilität Ladestation / E-Mobilität Batterie    0.792154  \n",
       "101                       Leistungen im Schadenfall    0.790991  \n",
       "104                         Leistung im Schadenfall    0.785303  \n",
       "73                                              NaN    0.784164  \n",
       "105                            Besondere Leistungen    0.783118  "
      ]
     },
     "execution_count": 7,
     "metadata": {},
     "output_type": "execute_result"
    }
   ],
   "source": [
    "such_text = \"Elektroauto\"\n",
    "suche_relevante_AVBs(such_text, AVBs)[[\"id\", \"Teil\", \"Titel\", \"Untertitel\", \"similarity\"]]"
   ]
  },
  {
   "cell_type": "code",
   "execution_count": 8,
   "id": "dacd4592-bbd0-42e3-8dfd-b9c8b188821f",
   "metadata": {},
   "outputs": [
    {
     "data": {
      "text/html": [
       "<div>\n",
       "<style scoped>\n",
       "    .dataframe tbody tr th:only-of-type {\n",
       "        vertical-align: middle;\n",
       "    }\n",
       "\n",
       "    .dataframe tbody tr th {\n",
       "        vertical-align: top;\n",
       "    }\n",
       "\n",
       "    .dataframe thead th {\n",
       "        text-align: right;\n",
       "    }\n",
       "</style>\n",
       "<table border=\"1\" class=\"dataframe\">\n",
       "  <thead>\n",
       "    <tr style=\"text-align: right;\">\n",
       "      <th></th>\n",
       "      <th>id</th>\n",
       "      <th>Teil</th>\n",
       "      <th>Titel</th>\n",
       "      <th>Untertitel</th>\n",
       "      <th>similarity</th>\n",
       "    </tr>\n",
       "  </thead>\n",
       "  <tbody>\n",
       "    <tr>\n",
       "      <th>62</th>\n",
       "      <td>C2.7</td>\n",
       "      <td>Kaskoversicherung: Schäden an Ihrem Fahrzeug</td>\n",
       "      <td>Schäden durch Natur, Tiere\\nund Unbekannte (Te...</td>\n",
       "      <td>Kollision mit Tieren</td>\n",
       "      <td>0.808831</td>\n",
       "    </tr>\n",
       "    <tr>\n",
       "      <th>28</th>\n",
       "      <td>A12.3</td>\n",
       "      <td>Rahmenbedingungen des Versicherungsvertrags</td>\n",
       "      <td>Schadenfall</td>\n",
       "      <td>Kasko</td>\n",
       "      <td>0.803845</td>\n",
       "    </tr>\n",
       "    <tr>\n",
       "      <th>59</th>\n",
       "      <td>C2.4</td>\n",
       "      <td>Kaskoversicherung: Schäden an Ihrem Fahrzeug</td>\n",
       "      <td>Schäden durch Natur, Tiere\\nund Unbekannte (Te...</td>\n",
       "      <td>Naturereignisse</td>\n",
       "      <td>0.800500</td>\n",
       "    </tr>\n",
       "    <tr>\n",
       "      <th>112</th>\n",
       "      <td>D8.1</td>\n",
       "      <td>Services und Zusatzleistungen</td>\n",
       "      <td>Verletzung an Ihnen und Mitfahrenden</td>\n",
       "      <td>Versicherungsschutz</td>\n",
       "      <td>0.792004</td>\n",
       "    </tr>\n",
       "    <tr>\n",
       "      <th>61</th>\n",
       "      <td>C2.6</td>\n",
       "      <td>Kaskoversicherung: Schäden an Ihrem Fahrzeug</td>\n",
       "      <td>Schäden durch Natur, Tiere\\nund Unbekannte (Te...</td>\n",
       "      <td>Schäden durch Marder und Nagetiere</td>\n",
       "      <td>0.791725</td>\n",
       "    </tr>\n",
       "    <tr>\n",
       "      <th>88</th>\n",
       "      <td>D1</td>\n",
       "      <td>Services und Zusatzleistungen</td>\n",
       "      <td>Grobfahrlässigkeit</td>\n",
       "      <td>NaN</td>\n",
       "      <td>0.788643</td>\n",
       "    </tr>\n",
       "    <tr>\n",
       "      <th>63</th>\n",
       "      <td>C2.8</td>\n",
       "      <td>Kaskoversicherung: Schäden an Ihrem Fahrzeug</td>\n",
       "      <td>Schäden durch Natur, Tiere\\nund Unbekannte (Te...</td>\n",
       "      <td>Böswillige Beschädigung</td>\n",
       "      <td>0.787401</td>\n",
       "    </tr>\n",
       "    <tr>\n",
       "      <th>57</th>\n",
       "      <td>C2.2</td>\n",
       "      <td>Kaskoversicherung: Schäden an Ihrem Fahrzeug</td>\n",
       "      <td>Schäden durch Natur, Tiere\\nund Unbekannte (Te...</td>\n",
       "      <td>Veruntreuung</td>\n",
       "      <td>0.785362</td>\n",
       "    </tr>\n",
       "    <tr>\n",
       "      <th>56</th>\n",
       "      <td>C2.1</td>\n",
       "      <td>Kaskoversicherung: Schäden an Ihrem Fahrzeug</td>\n",
       "      <td>Schäden durch Natur, Tiere\\nund Unbekannte (Te...</td>\n",
       "      <td>Diebstahl inkl. Car-Hacking</td>\n",
       "      <td>0.784880</td>\n",
       "    </tr>\n",
       "    <tr>\n",
       "      <th>34</th>\n",
       "      <td>A12.8</td>\n",
       "      <td>Rahmenbedingungen des Versicherungsvertrags</td>\n",
       "      <td>Schadenfall</td>\n",
       "      <td>Angetrunkener und fahrunfähiger Zustand oder k...</td>\n",
       "      <td>0.784003</td>\n",
       "    </tr>\n",
       "  </tbody>\n",
       "</table>\n",
       "</div>"
      ],
      "text/plain": [
       "        id                                          Teil  \\\n",
       "62    C2.7  Kaskoversicherung: Schäden an Ihrem Fahrzeug   \n",
       "28   A12.3   Rahmenbedingungen des Versicherungsvertrags   \n",
       "59    C2.4  Kaskoversicherung: Schäden an Ihrem Fahrzeug   \n",
       "112   D8.1                 Services und Zusatzleistungen   \n",
       "61    C2.6  Kaskoversicherung: Schäden an Ihrem Fahrzeug   \n",
       "88      D1                 Services und Zusatzleistungen   \n",
       "63    C2.8  Kaskoversicherung: Schäden an Ihrem Fahrzeug   \n",
       "57    C2.2  Kaskoversicherung: Schäden an Ihrem Fahrzeug   \n",
       "56    C2.1  Kaskoversicherung: Schäden an Ihrem Fahrzeug   \n",
       "34   A12.8   Rahmenbedingungen des Versicherungsvertrags   \n",
       "\n",
       "                                                 Titel  \\\n",
       "62   Schäden durch Natur, Tiere\\nund Unbekannte (Te...   \n",
       "28                                         Schadenfall   \n",
       "59   Schäden durch Natur, Tiere\\nund Unbekannte (Te...   \n",
       "112               Verletzung an Ihnen und Mitfahrenden   \n",
       "61   Schäden durch Natur, Tiere\\nund Unbekannte (Te...   \n",
       "88                                  Grobfahrlässigkeit   \n",
       "63   Schäden durch Natur, Tiere\\nund Unbekannte (Te...   \n",
       "57   Schäden durch Natur, Tiere\\nund Unbekannte (Te...   \n",
       "56   Schäden durch Natur, Tiere\\nund Unbekannte (Te...   \n",
       "34                                         Schadenfall   \n",
       "\n",
       "                                            Untertitel  similarity  \n",
       "62                                Kollision mit Tieren    0.808831  \n",
       "28                                               Kasko    0.803845  \n",
       "59                                     Naturereignisse    0.800500  \n",
       "112                                Versicherungsschutz    0.792004  \n",
       "61                  Schäden durch Marder und Nagetiere    0.791725  \n",
       "88                                                 NaN    0.788643  \n",
       "63                             Böswillige Beschädigung    0.787401  \n",
       "57                                        Veruntreuung    0.785362  \n",
       "56                         Diebstahl inkl. Car-Hacking    0.784880  \n",
       "34   Angetrunkener und fahrunfähiger Zustand oder k...    0.784003  "
      ]
     },
     "execution_count": 8,
     "metadata": {},
     "output_type": "execute_result"
    }
   ],
   "source": [
    "# funktioniert auch für ganze Sätze!\n",
    "such_text = \"Ich hatte einen Zusammenstoss mit einer Wildsau\"\n",
    "suche_relevante_AVBs(such_text, AVBs)[[\"id\", \"Teil\", \"Titel\", \"Untertitel\", \"similarity\"]]"
   ]
  },
  {
   "cell_type": "markdown",
   "id": "df9a50da-eead-40fe-b995-c3bcf609fded",
   "metadata": {},
   "source": [
    "### Demo 2: Deckungsprüfung auf Basis Police und AVB"
   ]
  },
  {
   "cell_type": "markdown",
   "id": "cce4523f-7da6-42b8-abaa-3b5b29497db2",
   "metadata": {},
   "source": [
    "#### Police laden"
   ]
  },
  {
   "cell_type": "code",
   "execution_count": 9,
   "id": "66c84bbb-c7a2-468b-b044-b42020caca7f",
   "metadata": {},
   "outputs": [],
   "source": [
    "with open('data/MF-Police.json', 'r') as openfile:\n",
    "    police = json.load(openfile)"
   ]
  },
  {
   "cell_type": "markdown",
   "id": "23d7e3fd-a8d4-41fc-a216-5339ae442b0a",
   "metadata": {},
   "source": [
    "#### Funktion zur Deckungsprüfung\n"
   ]
  },
  {
   "cell_type": "code",
   "execution_count": 10,
   "id": "0b54ecff-e080-491b-9b26-7d60e81d4d13",
   "metadata": {},
   "outputs": [],
   "source": [
    "#1. Finde diejenigen AVB-Klauseln, die auf den Schadenhergang am besten \"passen\"\n",
    "#2. Übergib die Anfrage, obige AVBs, die Police und den Schadenhergang an Chat GPT\n",
    "\n",
    "def pruefe_deckung(vertrag, AVBs, schadenhergang, prompt, max_avbs=15):\n",
    "    relevante_avbs = suche_relevante_AVBs(schadenhergang, AVBs, max_avbs=max_avbs)[\"Text\"]\n",
    "    relevante_avbs = \"\\n\\n\".join(relevante_avbs.to_list())\n",
    "    return gpt4.predict(prompt.format(avbs=relevante_avbs, vertrag=str(vertrag), schaden=schaden))"
   ]
  },
  {
   "cell_type": "code",
   "execution_count": 11,
   "id": "947846bd-365f-460d-9f82-321d66a79dbe",
   "metadata": {},
   "outputs": [],
   "source": [
    "prompt =\"Kläre, ob und wie der beschriebene Schadenhergang gedeckt ist.\\n\\\n",
    "\\n\\\n",
    "\\n\\n\\n\\\n",
    "Vertrag: ''' {vertrag} ''' \\n\\n\\n\\\n",
    "Vertragsbedingungen: ''' {avbs} '''\\n\\n\\n\\\n",
    "Schadenhergang: ''' {schaden} '''\""
   ]
  },
  {
   "cell_type": "markdown",
   "id": "9f4c44a1-0153-4ff9-99dc-bbbcf3a45212",
   "metadata": {},
   "source": [
    "#### Deckung prüfen"
   ]
  },
  {
   "cell_type": "code",
   "execution_count": 28,
   "id": "8da62113-fddf-411e-8604-e5bf014c6629",
   "metadata": {},
   "outputs": [
    {
     "name": "stdout",
     "output_type": "stream",
     "text": [
      "Der beschriebene Schadenhergang ist nicht durch die Motorfahrzeugversicherung \"OPTIMA\" gedeckt. Gemäß den\n",
      "Vertragsbedingungen B6.2 und C11.3 besteht kein Versicherungsschutz für Schäden, die bei der Teilnahme an Rennen,\n",
      "Rallyes und ähnlichen Wettfahrten sowie auf Fahrten auf Renn- und Trainingsstrecken entstehen. Da der Schaden während\n",
      "eines Bergrennens entstanden ist, fällt dieser unter diese Ausschlussklausel.\n"
     ]
    }
   ],
   "source": [
    "schaden = \"Ich bin am Hallauer Bergrennen von der Strasse gekommen.\"\n",
    "pretty_print(pruefe_deckung(police, AVBs, schaden, prompt))"
   ]
  },
  {
   "cell_type": "code",
   "execution_count": null,
   "id": "940ec6ea-8b74-48c4-9b3b-aeeff1ac2a6f",
   "metadata": {},
   "outputs": [],
   "source": [
    "schaden = \"Ich war auf der N1 von Winterthur nach St. Gallen unterwegs. Auf Höhe Wil stand plötzlich ein Reh auf der Fahrbahn. Ich konnte nicht mehr bremsen und es kam zum Zusammenstoss\"\n",
    "pretty_print(pruefe_deckung(police, AVBs, schaden, prompt))"
   ]
  },
  {
   "cell_type": "code",
   "execution_count": null,
   "id": "1242e2dc-68d3-47d5-a5f2-2d5bed8a3e82",
   "metadata": {},
   "outputs": [],
   "source": [
    "schaden = \"Ich habe in der Migros Rosenberg in der Tiefgarage parkiert. Als ich wieder zum Auto zurück kam, entdeckte ich eine Beule, die wohl in meiner Abwesenheit durch ein anderes Fahrzeug verursacht worden ist.\"\n",
    "pretty_print(pruefe_deckung(police, AVBs, schaden, prompt))"
   ]
  },
  {
   "cell_type": "markdown",
   "id": "9b47f6a5-8887-4bfe-a77e-0a35edb3fa0d",
   "metadata": {
    "jp-MarkdownHeadingCollapsed": true
   },
   "source": [
    "### Demo 3: Offertvergleich"
   ]
  },
  {
   "cell_type": "markdown",
   "id": "95bcdda7-2f1a-4b7f-bfff-689657fb81d4",
   "metadata": {
    "jp-MarkdownHeadingCollapsed": true
   },
   "source": [
    "#### Offerte von Smile laden"
   ]
  },
  {
   "cell_type": "code",
   "execution_count": null,
   "id": "1d83372a-d5ff-4008-86db-ed5a74f70702",
   "metadata": {},
   "outputs": [],
   "source": [
    "with open('data/MF-Offerte-Smile.json', 'r') as openfile:\n",
    "    offerte = json.load(openfile)"
   ]
  },
  {
   "cell_type": "markdown",
   "id": "7b452f7d-95e9-4e64-a2e4-063bc7688117",
   "metadata": {
    "jp-MarkdownHeadingCollapsed": true
   },
   "source": [
    "#### Offerte und Police vergleichen"
   ]
  },
  {
   "cell_type": "code",
   "execution_count": null,
   "id": "f2235fab-a70c-4011-ba3d-54d042493518",
   "metadata": {},
   "outputs": [],
   "source": [
    "prompt =\"Vergleiche den Selbstbehalt der Police von AXA mit dem Angbot von Smile.\\n\\\n",
    "\\n\\\n",
    "\\n\\\n",
    "Police AXA: ''' {vertrag} ''' \\n\\n\\n\\\n",
    "Offerte Smile: ''' {offerte} '''\"\n",
    "\n",
    "pretty_print(gpt4.predict(prompt.format(vertrag=str(police), offerte=str(offerte))))"
   ]
  },
  {
   "cell_type": "code",
   "execution_count": null,
   "id": "60ef91fe-e50d-458f-aae5-bc7b186c576a",
   "metadata": {},
   "outputs": [],
   "source": [
    "prompt =\"Vergleiche die Nettoprämie der Police von AXA mit dem Angbot von Smile.\\n\\\n",
    "\\n\\\n",
    "\\n\\\n",
    "Police AXA: ''' {vertrag} ''' \\n\\n\\n\\\n",
    "Offerte Smile: ''' {offerte} '''\"\n",
    "\n",
    "pretty_print(gpt4.predict(prompt.format(vertrag=str(police), offerte=str(offerte))))"
   ]
  },
  {
   "cell_type": "code",
   "execution_count": null,
   "id": "2a529140-6122-4c74-8882-e26ccb58b0cc",
   "metadata": {},
   "outputs": [],
   "source": []
  }
 ],
 "metadata": {
  "colab": {
   "provenance": []
  },
  "kernelspec": {
   "display_name": "Python [conda env:genai-demo]",
   "language": "python",
   "name": "conda-env-genai-demo-py"
  },
  "language_info": {
   "codemirror_mode": {
    "name": "ipython",
    "version": 3
   },
   "file_extension": ".py",
   "mimetype": "text/x-python",
   "name": "python",
   "nbconvert_exporter": "python",
   "pygments_lexer": "ipython3",
   "version": "3.10.13"
  }
 },
 "nbformat": 4,
 "nbformat_minor": 5
}
